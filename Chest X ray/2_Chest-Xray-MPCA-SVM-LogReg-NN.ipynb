{
 "cells": [
  {
   "cell_type": "markdown",
   "metadata": {},
   "source": [
    "# For day 2: CNN, comparison with linear SVM and logistic regression, metrics (accuracy, ROC, AUC)"
   ]
  },
  {
   "cell_type": "code",
   "execution_count": null,
   "metadata": {},
   "outputs": [],
   "source": [
    "import os;\n",
    "import tensorflow as tf;\n",
    "import numpy as np;\n",
    "import matplotlib.pyplot as plt;\n",
    "import sklearn;\n",
    "from sklearn import svm;\n",
    "from sklearn import metrics;\n",
    "# os.environ['KMP_DUPLICATE_LIB_OK']='True'; # for MAC"
   ]
  },
  {
   "cell_type": "code",
   "execution_count": null,
   "metadata": {},
   "outputs": [],
   "source": [
    "# function\n",
    "def unfold(X, k):\n",
    "    # X: p1,p2,n\n",
    "    n= X.shape[0];\n",
    "    p1 = X.shape[1];\n",
    "    p2 = X.shape[2];\n",
    "    if k == 0:\n",
    "        X = np.transpose(X,(1,2,0));\n",
    "        Xk = np.reshape(X, [p1,n * p2],order='F')\n",
    "    else:\n",
    "        X = np.transpose(X,(2,1,0));\n",
    "        Xk = np.reshape(X, [p2, p1*n],order='F')\n",
    "    return Xk;"
   ]
  },
  {
   "cell_type": "code",
   "execution_count": null,
   "metadata": {},
   "outputs": [],
   "source": [
    "# load data\n",
    "imgX = 224;\n",
    "imgY = 224;\n",
    "train_datagen = tf.keras.preprocessing.image.ImageDataGenerator(\n",
    "    rescale=1./255,\n",
    "    #width_shift_range=0.05,\n",
    "    #height_shift_range=0.15,\n",
    "    #rotation_range=10,\n",
    "    #zoom_range=0.1,\n",
    ")\n",
    "validation_datagen = tf.keras.preprocessing.image.ImageDataGenerator(rescale=1./255)\n",
    "test_datagen = tf.keras.preprocessing.image.ImageDataGenerator(rescale=1./255)\n",
    "\n",
    "# for Chen Laoshi\n",
    "#prefix = '/users/chensuyun/Dropbox/chest-x-ray/data/';\n",
    "prefix = './data/chest_xray/';\n",
    "#prefix = 'data/';\n",
    "\n",
    "train_generator = train_datagen.flow_from_directory(\n",
    "    prefix + 'train',\n",
    "    target_size=(imgX,imgY),\n",
    "    batch_size=5216, # 5216\n",
    "    class_mode=\"binary\", # input --> if unsupervised training\n",
    "    color_mode=\"grayscale\",\n",
    "    shuffle=True,\n",
    ")\n",
    " \n",
    "validation_generator = validation_datagen.flow_from_directory(\n",
    "    prefix + 'val',\n",
    "    target_size=(imgX,imgY),\n",
    "    class_mode=\"binary\",\n",
    "    color_mode=\"grayscale\",\n",
    "    shuffle=False,\n",
    "    batch_size=16,\n",
    ")\n",
    "test_generator = test_datagen.flow_from_directory(\n",
    "    prefix+'test',\n",
    "    target_size=(imgX,imgY),\n",
    "    class_mode=\"binary\",\n",
    "    color_mode=\"grayscale\",\n",
    "    shuffle=False,\n",
    "    batch_size=624,\n",
    ")\n",
    "# num classes\n",
    "num_classes = 2;\n",
    "# X: 5216 x 224 x 224 x 1"
   ]
  },
  {
   "cell_type": "code",
   "execution_count": null,
   "metadata": {},
   "outputs": [],
   "source": [
    "# 設定低維度空間的維度\n",
    "q1 = 10;\n",
    "q2 = 10;"
   ]
  },
  {
   "cell_type": "code",
   "execution_count": null,
   "metadata": {},
   "outputs": [],
   "source": [
    "# 讀取訓練資料\n",
    "X,Y = train_generator.next();\n",
    "X = np.reshape(X,[X.shape[0], X.shape[1], X.shape[2]]); # reshape to n x p1 x p2\n",
    "print('size of X:')\n",
    "print(X.shape);\n",
    "n = X.shape[0];\n",
    "p1 = X.shape[1];\n",
    "p2 = X.shape[2];"
   ]
  },
  {
   "cell_type": "code",
   "execution_count": null,
   "metadata": {},
   "outputs": [],
   "source": [
    "# 讀取測試資料\n",
    "Xtest, Ytest = test_generator.next();\n",
    "m = Xtest.shape[0];\n",
    "Xtest = np.reshape(Xtest, [m, p1, p2]);\n",
    "print('size of Xtest:');\n",
    "print(Xtest.shape);"
   ]
  },
  {
   "cell_type": "code",
   "execution_count": null,
   "metadata": {},
   "outputs": [],
   "source": [
    "# 做HOSVD，並將其輸出當作MPCA迭代程式\n",
    "X1 = unfold(X,0); # p x nq; X_{(col)}\n",
    "X2 = unfold(X,1); # p x nq; X_{(row)}\n",
    "print('size of X(1) and X(2):')\n",
    "print(X1.shape);\n",
    "print(X2.shape);\n",
    "U1, S1, V1 = np.linalg.svd(X1 @ X1.T); # size p x p matrix SVD\n",
    "U2, S2, V2 = np.linalg.svd(X2 @ X2.T); # size q x q matrix SVD\n",
    "A = U1[:,0:q1];\n",
    "B = U2[:,0:q2];\n",
    "print('size of A and B:')\n",
    "print(A.shape);\n",
    "print(B.shape);"
   ]
  },
  {
   "cell_type": "code",
   "execution_count": null,
   "metadata": {},
   "outputs": [],
   "source": [
    "# GLRAM: MPCA的演算法之一\n",
    "count = 3; # num of iterations\n",
    "for i in range(count):\n",
    "    # update A\n",
    "    Bn = np.expand_dims(B,0) # --> [1,p2,q2]\n",
    "    Bn = np.tile(Bn,[n,1,1]); # --> [n,p2,q2]\n",
    "    XB = np.matmul(X,Bn); # --> [n,p1,q2]\n",
    "    XB2 = unfold(XB,0); # --> [p1,n*q2]\n",
    "    U1,S1,V1 = np.linalg.svd(XB2 @ XB2.T)\n",
    "    A = U1[:,0:q1];\n",
    "    \n",
    "    # update B\n",
    "    ATn = np.expand_dims(A.T,0) # --> [1,q1,p1]\n",
    "    ATn = np.tile(ATn,[n,1,1]); # --> [n,q1,p1]\n",
    "    AX = np.matmul(ATn,X); # --> [n,q1,p2]\n",
    "    AX1 = unfold(AX,1); # --> [p2,n*q1]\n",
    "    U2,S2,V2 = np.linalg.svd(AX1 @ AX1.T)\n",
    "    B = U2[:,0:q2];\n",
    "    \n",
    "    # compute reconstruction error\n",
    "    AATn = np.expand_dims(A @ A.T,0);\n",
    "    AATn = np.tile(AATn,[n,1,1]);\n",
    "    BBTn = np.expand_dims(B @ B.T,0);\n",
    "    BBTn = np.tile(BBTn,[n,1,1]);\n",
    "    X_ = AATn @ X @ BBTn;\n",
    "    error = np.sum(np.sum(np.square(X-X_),axis=1),axis=1);\n",
    "    print(np.mean(error));"
   ]
  },
  {
   "cell_type": "code",
   "execution_count": null,
   "metadata": {},
   "outputs": [],
   "source": [
    "# 對訓練資料和測試資料做降維\n",
    "An = np.expand_dims(A, 0); # --> [1,p1,q1]\n",
    "An = np.tile(An, [n,1,1]); # --> [n,p1,q1]\n",
    "AnT = np.transpose(An, (0,2,1)); # --> [n,q1,p1]\n",
    "Bn = np.expand_dims(B,0); # --> [1,p1,q1]\n",
    "Bn = np.tile(Bn, [n,1,1]); # --> [n,p1,q1]\n",
    "Xlow = AnT @ X @ Bn; # --> [n,q1,q2]\n",
    "# \n",
    "Am = np.expand_dims(A, 0); # --> [1,p1,q1]\n",
    "Am = np.tile(Am, [m,1,1]); # --> [n,p1,q1]\n",
    "AmT = np.transpose(Am, (0,2,1)); # --> [n,q1,p1]\n",
    "Bm = np.expand_dims(B,0); # --> [1,p1,q1]\n",
    "Bm = np.tile(Bm, [m,1,1]); # --> [n,p1,q1]\n",
    "Xtest_low = AmT @ Xtest @ Bm; # --> [n,q1,q2]\n",
    "#\n",
    "print('size of Xlow and Xtest_low:');\n",
    "print(Xlow.shape);\n",
    "print(Xtest_low.shape);"
   ]
  },
  {
   "cell_type": "code",
   "execution_count": null,
   "metadata": {},
   "outputs": [],
   "source": [
    "# 對testing data 做reconstruction的動作\n",
    "AATm = np.expand_dims(A @ A.T, 0);\n",
    "BBTm = np.expand_dims(B @ B.T, 0);\n",
    "AATm = np.tile(AATm,[m,1,1]);\n",
    "BBTm = np.tile(BBTm,[m,1,1]);\n",
    "Xtest_reconst = AATm @ Xtest @ BBTm;"
   ]
  },
  {
   "cell_type": "code",
   "execution_count": null,
   "metadata": {},
   "outputs": [],
   "source": [
    "######################## SVM分類器 ###########################"
   ]
  },
  {
   "cell_type": "code",
   "execution_count": null,
   "metadata": {},
   "outputs": [],
   "source": [
    "# 將資料向量化\n",
    "Xlow_vec = np.reshape(Xlow, [n,q1*q2], order='F');\n",
    "Xtest_low_vec = np.reshape(Xtest_low, [m, q1*q2], order='F');"
   ]
  },
  {
   "cell_type": "code",
   "execution_count": null,
   "metadata": {},
   "outputs": [],
   "source": [
    "# 訓練SVM 1\n",
    "mysvm = svm.SVC(kernel='linear', C=1);  \n",
    "mysvm.fit(Xlow_vec, Y);\n",
    "Ytest_predict = mysvm.predict(Xtest_low_vec); # 預測\n",
    "svm_accuracy = np.sum(Ytest == Ytest_predict) / m;\n",
    "print(svm_accuracy);\n",
    "\n",
    "mysvm2 = svm.SVC(kernel='rbf', C=1); # gamma = default for 'rbf'\n",
    "mysvm2.fit(Xlow_vec, Y);\n",
    "Ytest_predict = mysvm2.predict(Xtest_low_vec); # 預測\n",
    "svm_accuracy = np.sum(Ytest == Ytest_predict) / m;\n",
    "print(svm_accuracy);"
   ]
  },
  {
   "cell_type": "code",
   "execution_count": null,
   "metadata": {},
   "outputs": [],
   "source": [
    "# logistic via NN\n",
    "model = tf.keras.Sequential()\n",
    "model.add(tf.keras.layers.BatchNormalization(axis=-1, momentum=0.99, epsilon=0.001, center=True, scale=True, beta_initializer='zeros', gamma_initializer='ones', moving_mean_initializer='zeros', moving_variance_initializer='ones'));\n",
    "model.add(tf.keras.layers.Dense(1, activation='sigmoid', input_shape=(q1*q2,)))\n",
    "model.compile(loss='binary_crossentropy',optimizer='RMSprop',metrics=['accuracy'])\n",
    "history = model.fit(Xlow_vec, Y, batch_size=64, epochs=50, verbose=1, validation_data=(Xtest_low_vec, Ytest))"
   ]
  },
  {
   "cell_type": "code",
   "execution_count": null,
   "metadata": {},
   "outputs": [],
   "source": [
    "####################### Neural Network 分類器 #########################"
   ]
  },
  {
   "cell_type": "code",
   "execution_count": null,
   "metadata": {},
   "outputs": [],
   "source": [
    "#y_train = tf.keras.utils.to_categorical(Y, num_classes)\n",
    "#y_test = tf.keras.utils.to_categorical(Ytest, num_classes)"
   ]
  },
  {
   "cell_type": "code",
   "execution_count": null,
   "metadata": {},
   "outputs": [],
   "source": [
    "model = tf.keras.Sequential()\n",
    "model.add(tf.keras.layers.Dense(8, activation='relu', input_shape=(q1*q2,)))\n",
    "model.add(tf.keras.layers.BatchNormalization(axis=-1, momentum=0.99, epsilon=0.001, center=True, scale=True, beta_initializer='zeros', gamma_initializer='ones', moving_mean_initializer='zeros', moving_variance_initializer='ones'));\n",
    "model.add(tf.keras.layers.Dense(4, activation='relu'))\n",
    "model.add(tf.keras.layers.BatchNormalization(axis=-1, momentum=0.99, epsilon=0.001, center=True, scale=True, beta_initializer='zeros', gamma_initializer='ones', moving_mean_initializer='zeros', moving_variance_initializer='ones'));\n",
    "model.add(tf.keras.layers.Dense(1, activation='sigmoid'))\n",
    "model.compile(loss='binary_crossentropy',optimizer='RMSprop',metrics=['accuracy', tf.keras.metrics.AUC(num_thresholds=200, curve='ROC', summation_method='interpolation')]); # or 'AUC' also works.\n",
    "history = model.fit(Xlow_vec, Y, batch_size=250, epochs=50, verbose=1, validation_data=(Xtest_low_vec, Ytest))"
   ]
  },
  {
   "cell_type": "code",
   "execution_count": null,
   "metadata": {},
   "outputs": [],
   "source": [
    "model.summary()"
   ]
  },
  {
   "cell_type": "code",
   "execution_count": null,
   "metadata": {},
   "outputs": [],
   "source": [
    "# 檢查AUC\n",
    "import matplotlib.ticker as ticker;\n",
    "auc_training = history.history['auc'];\n",
    "auc_testing = history.history['val_auc'];\n",
    "plt.plot(auc_training, label='training auc');\n",
    "plt.plot(auc_testing, label='validation auc');\n",
    "plt.gca().get_xaxis().set_major_locator(ticker.MaxNLocator(integer=True));\n",
    "plt.legend();"
   ]
  },
  {
   "cell_type": "code",
   "execution_count": null,
   "metadata": {},
   "outputs": [],
   "source": [
    "# 畫ROC曲線 的函數\n",
    "def plot_roc(name, labels, predictions, **kwargs):\n",
    "    fp, tp, _ = sklearn.metrics.roc_curve(labels, predictions);\n",
    "    plt.plot(100*fp, 100*tp, label=name, linewidth=2, **kwargs);\n",
    "    plt.xlabel('False positives [%]');\n",
    "    plt.ylabel('True positives [%]');\n",
    "    plt.xlim([-0.5,100.5]);\n",
    "    plt.ylim([-0.5,100.5]);\n",
    "    plt.grid(True);\n",
    "    ax = plt.gca();\n",
    "    ax.set_aspect('equal')"
   ]
  },
  {
   "cell_type": "code",
   "execution_count": null,
   "metadata": {},
   "outputs": [],
   "source": [
    "# 預測機率\n",
    "    predictions_train = model.call(tf.Variable(Xlow_vec));\n",
    "predictions_test = model.call(tf.Variable(Xtest_low_vec));\n",
    "\n",
    "# 畫畫\n",
    "plot_roc('train', Y, predictions_train ,color='blue');\n",
    "plot_roc('test', Ytest, predictions_test ,color='red');\n",
    "plt.legend(loc='lower right');"
   ]
  },
  {
   "cell_type": "code",
   "execution_count": null,
   "metadata": {},
   "outputs": [],
   "source": []
  },
  {
   "cell_type": "code",
   "execution_count": null,
   "metadata": {},
   "outputs": [],
   "source": []
  },
  {
   "cell_type": "code",
   "execution_count": null,
   "metadata": {},
   "outputs": [],
   "source": []
  }
 ],
 "metadata": {
  "kernelspec": {
   "display_name": "Python 3",
   "language": "python",
   "name": "python3"
  },
  "language_info": {
   "codemirror_mode": {
    "name": "ipython",
    "version": 3
   },
   "file_extension": ".py",
   "mimetype": "text/x-python",
   "name": "python",
   "nbconvert_exporter": "python",
   "pygments_lexer": "ipython3",
   "version": "3.7.6"
  }
 },
 "nbformat": 4,
 "nbformat_minor": 4
}

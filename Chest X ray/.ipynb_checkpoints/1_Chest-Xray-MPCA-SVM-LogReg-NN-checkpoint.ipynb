{
 "cells": [
  {
   "cell_type": "markdown",
   "metadata": {},
   "source": [
    "# For day 1: linear classifiers, SVM and logistic regression as a simple NN"
   ]
  },
  {
   "cell_type": "code",
   "execution_count": 1,
   "metadata": {},
   "outputs": [],
   "source": [
    "import os;\n",
    "import tensorflow as tf;\n",
    "import numpy as np;\n",
    "import matplotlib.pyplot as plt;\n",
    "from sklearn import svm;\n",
    "os.environ['KMP_DUPLICATE_LIB_OK']='True'; # for MAC"
   ]
  },
  {
   "cell_type": "code",
   "execution_count": 2,
   "metadata": {},
   "outputs": [],
   "source": [
    "# function\n",
    "def unfold(X, k):\n",
    "    # X: p1,p2,n\n",
    "    n= X.shape[0];\n",
    "    p1 = X.shape[1];\n",
    "    p2 = X.shape[2];\n",
    "    if k == 0:\n",
    "        X = np.transpose(X,(1,2,0));\n",
    "        Xk = np.reshape(X, [p1,n * p2],order='F')\n",
    "    else:\n",
    "        X = np.transpose(X,(2,1,0));\n",
    "        Xk = np.reshape(X, [p2, p1*n],order='F')\n",
    "    return Xk;"
   ]
  },
  {
   "cell_type": "code",
   "execution_count": 3,
   "metadata": {},
   "outputs": [
    {
     "name": "stdout",
     "output_type": "stream",
     "text": [
      "Found 5216 images belonging to 2 classes.\n",
      "Found 16 images belonging to 2 classes.\n",
      "Found 624 images belonging to 2 classes.\n"
     ]
    }
   ],
   "source": [
    "# load data\n",
    "imgX = 224;\n",
    "imgY = 224;\n",
    "train_datagen = tf.keras.preprocessing.image.ImageDataGenerator(\n",
    "    rescale=1./255,\n",
    "    #width_shift_range=0.05,\n",
    "    #height_shift_range=0.15,\n",
    "    #rotation_range=10,\n",
    "    #zoom_range=0.1,\n",
    ")\n",
    "validation_datagen = tf.keras.preprocessing.image.ImageDataGenerator(rescale=1./255)\n",
    "test_datagen = tf.keras.preprocessing.image.ImageDataGenerator(rescale=1./255)\n",
    "\n",
    "# for Chen Laoshi\n",
    "#prefix = '/users/chensuyun/Dropbox/chest-x-ray/data/';\n",
    "prefix = '/users/syhuangmac/Dropbox/chest-x-ray/data/';\n",
    "#prefix = 'data/';\n",
    "\n",
    "train_generator = train_datagen.flow_from_directory(\n",
    "    prefix + 'train',\n",
    "    target_size=(imgX,imgY),\n",
    "    batch_size=5216, # 5216\n",
    "    class_mode=\"binary\", # input --> if unsupervised training\n",
    "    color_mode=\"grayscale\",\n",
    "    shuffle=True,\n",
    ")\n",
    " \n",
    "validation_generator = validation_datagen.flow_from_directory(\n",
    "    prefix + 'val',\n",
    "    target_size=(imgX,imgY),\n",
    "    class_mode=\"binary\",\n",
    "    color_mode=\"grayscale\",\n",
    "    shuffle=False,\n",
    "    batch_size=16,\n",
    ")\n",
    "test_generator = test_datagen.flow_from_directory(\n",
    "    prefix+'test',\n",
    "    target_size=(imgX,imgY),\n",
    "    class_mode=\"binary\",\n",
    "    color_mode=\"grayscale\",\n",
    "    shuffle=False,\n",
    "    batch_size=624,\n",
    ")\n",
    "# num classes\n",
    "num_classes = 2;\n",
    "# X: 5216 x 224 x 224 x 1"
   ]
  },
  {
   "cell_type": "code",
   "execution_count": 4,
   "metadata": {},
   "outputs": [],
   "source": [
    "# 設定低維度空間的維度\n",
    "q1 = 5;\n",
    "q2 = 5;"
   ]
  },
  {
   "cell_type": "code",
   "execution_count": 5,
   "metadata": {},
   "outputs": [
    {
     "name": "stdout",
     "output_type": "stream",
     "text": [
      "size of X:\n",
      "(5216, 224, 224)\n"
     ]
    }
   ],
   "source": [
    "# 讀取訓練資料\n",
    "X,Y = train_generator.next();\n",
    "X = np.reshape(X,[X.shape[0], X.shape[1], X.shape[2]]); # reshape to n x p1 x p2\n",
    "print('size of X:')\n",
    "print(X.shape);\n",
    "n = X.shape[0];\n",
    "p1 = X.shape[1];\n",
    "p2 = X.shape[2];"
   ]
  },
  {
   "cell_type": "code",
   "execution_count": 6,
   "metadata": {},
   "outputs": [
    {
     "name": "stdout",
     "output_type": "stream",
     "text": [
      "size of Xtest:\n",
      "(624, 224, 224)\n"
     ]
    }
   ],
   "source": [
    "# 讀取測試資料\n",
    "Xtest, Ytest = test_generator.next();\n",
    "m = Xtest.shape[0];\n",
    "Xtest = np.reshape(Xtest, [m, p1, p2]);\n",
    "print('size of Xtest:');\n",
    "print(Xtest.shape);"
   ]
  },
  {
   "cell_type": "code",
   "execution_count": 7,
   "metadata": {},
   "outputs": [
    {
     "name": "stdout",
     "output_type": "stream",
     "text": [
      "size of X(1) and X(2):\n",
      "(224, 1168384)\n",
      "(224, 1168384)\n",
      "size of A and B:\n",
      "(224, 5)\n",
      "(224, 5)\n"
     ]
    }
   ],
   "source": [
    "# 做HOSVD，並將其輸出當作MPCA迭代程式\n",
    "X1 = unfold(X,0); # p x nq; X_{(col)}\n",
    "X2 = unfold(X,1); # p x nq; X_{(row)}\n",
    "print('size of X(1) and X(2):')\n",
    "print(X1.shape);\n",
    "print(X2.shape);\n",
    "U1, S1, V1 = np.linalg.svd(X1 @ X1.T); # size p x p matrix SVD\n",
    "U2, S2, V2 = np.linalg.svd(X2 @ X2.T); # size q x q matrix SVD\n",
    "A = U1[:,0:q1];\n",
    "B = U2[:,0:q2];\n",
    "print('size of A and B:')\n",
    "print(A.shape);\n",
    "print(B.shape);"
   ]
  },
  {
   "cell_type": "markdown",
   "metadata": {},
   "source": [
    "# check eigenvalues S1,S2\n",
    "# since the first eigenvalue is too large..., we plot from the 4th \n",
    "plt.plot(S1[10:50]);\n",
    "plt.plot(S2[10:50]);"
   ]
  },
  {
   "cell_type": "code",
   "execution_count": 8,
   "metadata": {},
   "outputs": [
    {
     "name": "stdout",
     "output_type": "stream",
     "text": [
      "473.8946\n",
      "473.88275\n",
      "473.88272\n"
     ]
    }
   ],
   "source": [
    "# GLRAM: MPCA的演算法之一\n",
    "count = 3; # num of iterations\n",
    "for i in range(count):\n",
    "    # update A\n",
    "    Bn = np.expand_dims(B,0) # --> [1,p2,q2]\n",
    "    Bn = np.tile(Bn,[n,1,1]); # --> [n,p2,q2]\n",
    "    XB = np.matmul(X,Bn); # --> [n,p1,q2]\n",
    "    XB2 = unfold(XB,0); # --> [p1,n*q2]\n",
    "    U1,S1,V1 = np.linalg.svd(XB2 @ XB2.T)\n",
    "    A = U1[:,0:q1];\n",
    "    \n",
    "    # update B\n",
    "    ATn = np.expand_dims(A.T,0) # --> [1,q1,p1]\n",
    "    ATn = np.tile(ATn,[n,1,1]); # --> [n,q1,p1]\n",
    "    AX = np.matmul(ATn,X); # --> [n,q1,p2]\n",
    "    AX1 = unfold(AX,1); # --> [p2,n*q1]\n",
    "    U2,S2,V2 = np.linalg.svd(AX1 @ AX1.T)\n",
    "    B = U2[:,0:q2];\n",
    "    \n",
    "    # compute reconstruction error\n",
    "    AATn = np.expand_dims(A @ A.T,0);\n",
    "    AATn = np.tile(AATn,[n,1,1]);\n",
    "    BBTn = np.expand_dims(B @ B.T,0);\n",
    "    BBTn = np.tile(BBTn,[n,1,1]);\n",
    "    X_ = AATn @ X @ BBTn;\n",
    "    error = np.sum(np.sum(np.square(X-X_),axis=1),axis=1);\n",
    "    print(np.mean(error));"
   ]
  },
  {
   "cell_type": "code",
   "execution_count": 9,
   "metadata": {},
   "outputs": [
    {
     "name": "stdout",
     "output_type": "stream",
     "text": [
      "size of Xlow and Xtest_low:\n",
      "(5216, 5, 5)\n",
      "(624, 5, 5)\n"
     ]
    }
   ],
   "source": [
    "# 對訓練資料和測試資料做降維\n",
    "An = np.expand_dims(A, 0); # --> [1,p1,q1]\n",
    "An = np.tile(An, [n,1,1]); # --> [n,p1,q1]\n",
    "AnT = np.transpose(An, (0,2,1)); # --> [n,q1,p1]\n",
    "Bn = np.expand_dims(B,0); # --> [1,p1,q1]\n",
    "Bn = np.tile(Bn, [n,1,1]); # --> [n,p1,q1]\n",
    "Xlow = AnT @ X @ Bn; # --> [n,q1,q2]\n",
    "# \n",
    "Am = np.expand_dims(A, 0); # --> [1,p1,q1]\n",
    "Am = np.tile(Am, [m,1,1]); # --> [n,p1,q1]\n",
    "AmT = np.transpose(Am, (0,2,1)); # --> [n,q1,p1]\n",
    "Bm = np.expand_dims(B,0); # --> [1,p1,q1]\n",
    "Bm = np.tile(Bm, [m,1,1]); # --> [n,p1,q1]\n",
    "Xtest_low = AmT @ Xtest @ Bm; # --> [n,q1,q2]\n",
    "#\n",
    "print('size of Xlow and Xtest_low:');\n",
    "print(Xlow.shape);\n",
    "print(Xtest_low.shape);"
   ]
  },
  {
   "cell_type": "markdown",
   "metadata": {},
   "source": [
    "# 基底畫圖\n",
    "fig = plt.figure(figsize=(20,20))\n",
    "for i in range(3):\n",
    "    for j in range(3):\n",
    "        ai = A[:,i:(i+1)];\n",
    "        bj = B[:,j:(j+1)];\n",
    "        basis_image = ai @ bj.T;\n",
    "        ax = fig.add_subplot(5,5,i*5+j+1)\n",
    "        ax.set_title(\"a{0} b{1}^T\".format(i+1,j+1))\n",
    "        img = ax.imshow(basis_image, cmap='gray', interpolation='nearest', origin='upper')\n",
    "        cbar = fig.colorbar(img, ax=ax, aspect=50, pad=0.08, shrink=0.5, orientation='horizontal')"
   ]
  },
  {
   "cell_type": "markdown",
   "metadata": {},
   "source": [
    "# reconstruction畫圖\n",
    "fig = plt.figure(figsize=(150,150))\n",
    "num=4;\n",
    "for i in range(num):\n",
    "    ax = fig.add_subplot(num,2,2*i+1)\n",
    "    ax.set_title(\"original {0}\".format(i+1));\n",
    "    img = ax.imshow(X[i], cmap='gray', interpolation='nearest', origin='upper')\n",
    "    cbar = fig.colorbar(img, ax=ax, aspect=50, pad=0.08, shrink=0.25, orientation='horizontal')\n",
    "\n",
    "    bx = fig.add_subplot(num,2,2*i+2)\n",
    "    bx.set_title(\"reconstruction {0}\".format(i+1));\n",
    "    img = bx.imshow(X_[i], cmap='gray', interpolation='nearest', origin='upper')\n",
    "    cbar = fig.colorbar(img, ax=bx, aspect=50, pad=0.08, shrink=0.25, orientation='horizontal')"
   ]
  },
  {
   "cell_type": "code",
   "execution_count": 10,
   "metadata": {},
   "outputs": [],
   "source": [
    "# 對testing data 做reconstruction的動作\n",
    "AATm = np.expand_dims(A @ A.T, 0);\n",
    "BBTm = np.expand_dims(B @ B.T, 0);\n",
    "AATm = np.tile(AATm,[m,1,1]);\n",
    "BBTm = np.tile(BBTm,[m,1,1]);\n",
    "Xtest_reconst = AATm @ Xtest @ BBTm;"
   ]
  },
  {
   "cell_type": "markdown",
   "metadata": {},
   "source": [
    "fig = plt.figure(figsize=(150,150))\n",
    "num=4;\n",
    "for i in range(num):\n",
    "    ax = fig.add_subplot(num,2,2*i+1)\n",
    "    ax.set_title(\"original {0}\".format(i+1));\n",
    "    img = ax.imshow(Xtest[i], cmap='gray', interpolation='nearest', origin='upper')\n",
    "    cbar = fig.colorbar(img, ax=ax, aspect=50, pad=0.08, shrink=0.25, orientation='horizontal')\n",
    "\n",
    "    bx = fig.add_subplot(num,2,2*i+2)\n",
    "    bx.set_title(\"reconstruction {0}\".format(i+1));\n",
    "    img = bx.imshow(Xtest_reconst[i], cmap='gray', interpolation='nearest', origin='upper')\n",
    "    cbar = fig.colorbar(img, ax=bx, aspect=50, pad=0.08, shrink=0.25, orientation='horizontal')"
   ]
  },
  {
   "cell_type": "code",
   "execution_count": 11,
   "metadata": {},
   "outputs": [],
   "source": [
    "######################## SVM分類器 ###########################"
   ]
  },
  {
   "cell_type": "code",
   "execution_count": 12,
   "metadata": {},
   "outputs": [],
   "source": [
    "# 將資料向量化\n",
    "Xlow_vec = np.reshape(Xlow, [n,q1*q2], order='F');\n",
    "Xtest_low_vec = np.reshape(Xtest_low, [m, q1*q2], order='F');"
   ]
  },
  {
   "cell_type": "code",
   "execution_count": 13,
   "metadata": {},
   "outputs": [
    {
     "name": "stdout",
     "output_type": "stream",
     "text": [
      "0.7516025641025641\n",
      "0.7884615384615384\n"
     ]
    }
   ],
   "source": [
    "# 訓練SVM 1\n",
    "mysvm = svm.SVC(kernel='linear', C=1);  \n",
    "mysvm.fit(Xlow_vec, Y);\n",
    "Ytest_predict = mysvm.predict(Xtest_low_vec); # 預測\n",
    "svm_accuracy = np.sum(Ytest == Ytest_predict) / m;\n",
    "print(svm_accuracy);\n",
    "\n",
    "mysvm2 = svm.SVC(kernel='rbf', C=1); # gamma = default for 'rbf'\n",
    "mysvm2.fit(Xlow_vec, Y);\n",
    "Ytest_predict = mysvm2.predict(Xtest_low_vec); # 預測\n",
    "svm_accuracy = np.sum(Ytest == Ytest_predict) / m;\n",
    "print(svm_accuracy);"
   ]
  },
  {
   "cell_type": "code",
   "execution_count": 14,
   "metadata": {},
   "outputs": [],
   "source": [
    "### Logistic regression"
   ]
  },
  {
   "cell_type": "code",
   "execution_count": 15,
   "metadata": {},
   "outputs": [
    {
     "name": "stdout",
     "output_type": "stream",
     "text": [
      "Train on 5216 samples, validate on 624 samples\n",
      "Epoch 1/100\n",
      "5216/5216 [==============================] - 1s 208us/sample - loss: 0.6814 - accuracy: 0.6423 - val_loss: 2.1782 - val_accuracy: 0.3894\n",
      "Epoch 2/100\n",
      "5216/5216 [==============================] - 0s 16us/sample - loss: 0.5966 - accuracy: 0.6954 - val_loss: 1.5393 - val_accuracy: 0.4215\n",
      "Epoch 3/100\n",
      "5216/5216 [==============================] - 0s 16us/sample - loss: 0.5361 - accuracy: 0.7385 - val_loss: 1.2041 - val_accuracy: 0.4615\n",
      "Epoch 4/100\n",
      "5216/5216 [==============================] - 0s 17us/sample - loss: 0.4849 - accuracy: 0.7678 - val_loss: 0.9941 - val_accuracy: 0.5208\n",
      "Epoch 5/100\n",
      "5216/5216 [==============================] - 0s 16us/sample - loss: 0.4424 - accuracy: 0.7951 - val_loss: 0.8574 - val_accuracy: 0.5673\n",
      "Epoch 6/100\n",
      "5216/5216 [==============================] - 0s 16us/sample - loss: 0.4080 - accuracy: 0.8117 - val_loss: 0.7699 - val_accuracy: 0.6026\n",
      "Epoch 7/100\n",
      "5216/5216 [==============================] - 0s 16us/sample - loss: 0.3779 - accuracy: 0.8315 - val_loss: 0.7170 - val_accuracy: 0.6346\n",
      "Epoch 8/100\n",
      "5216/5216 [==============================] - 0s 16us/sample - loss: 0.3548 - accuracy: 0.8441 - val_loss: 0.6867 - val_accuracy: 0.6667\n",
      "Epoch 9/100\n",
      "5216/5216 [==============================] - 0s 16us/sample - loss: 0.3362 - accuracy: 0.8530 - val_loss: 0.6738 - val_accuracy: 0.6795\n",
      "Epoch 10/100\n",
      "5216/5216 [==============================] - 0s 16us/sample - loss: 0.3221 - accuracy: 0.8622 - val_loss: 0.6701 - val_accuracy: 0.6795\n",
      "Epoch 11/100\n",
      "5216/5216 [==============================] - 0s 16us/sample - loss: 0.3106 - accuracy: 0.8671 - val_loss: 0.6710 - val_accuracy: 0.6827\n",
      "Epoch 12/100\n",
      "5216/5216 [==============================] - 0s 16us/sample - loss: 0.2998 - accuracy: 0.8723 - val_loss: 0.6750 - val_accuracy: 0.6779\n",
      "Epoch 13/100\n",
      "5216/5216 [==============================] - 0s 16us/sample - loss: 0.2924 - accuracy: 0.8754 - val_loss: 0.6779 - val_accuracy: 0.6827\n",
      "Epoch 14/100\n",
      "5216/5216 [==============================] - 0s 16us/sample - loss: 0.2850 - accuracy: 0.8783 - val_loss: 0.6771 - val_accuracy: 0.6859\n",
      "Epoch 15/100\n",
      "5216/5216 [==============================] - 0s 16us/sample - loss: 0.2769 - accuracy: 0.8811 - val_loss: 0.6811 - val_accuracy: 0.6859\n",
      "Epoch 16/100\n",
      "5216/5216 [==============================] - 0s 16us/sample - loss: 0.2732 - accuracy: 0.8838 - val_loss: 0.6812 - val_accuracy: 0.6875\n",
      "Epoch 17/100\n",
      "5216/5216 [==============================] - 0s 16us/sample - loss: 0.2686 - accuracy: 0.8865 - val_loss: 0.6856 - val_accuracy: 0.6907\n",
      "Epoch 18/100\n",
      "5216/5216 [==============================] - 0s 16us/sample - loss: 0.2657 - accuracy: 0.8854 - val_loss: 0.6866 - val_accuracy: 0.6923\n",
      "Epoch 19/100\n",
      "5216/5216 [==============================] - 0s 16us/sample - loss: 0.2611 - accuracy: 0.8886 - val_loss: 0.6866 - val_accuracy: 0.6859\n",
      "Epoch 20/100\n",
      "5216/5216 [==============================] - 0s 16us/sample - loss: 0.2583 - accuracy: 0.8886 - val_loss: 0.6855 - val_accuracy: 0.6875\n",
      "Epoch 21/100\n",
      "5216/5216 [==============================] - 0s 16us/sample - loss: 0.2547 - accuracy: 0.8919 - val_loss: 0.6833 - val_accuracy: 0.6891\n",
      "Epoch 22/100\n",
      "5216/5216 [==============================] - 0s 17us/sample - loss: 0.2528 - accuracy: 0.8896 - val_loss: 0.6856 - val_accuracy: 0.6875\n",
      "Epoch 23/100\n",
      "5216/5216 [==============================] - 0s 16us/sample - loss: 0.2513 - accuracy: 0.8919 - val_loss: 0.6822 - val_accuracy: 0.6923\n",
      "Epoch 24/100\n",
      "5216/5216 [==============================] - 0s 16us/sample - loss: 0.2496 - accuracy: 0.8940 - val_loss: 0.6847 - val_accuracy: 0.6907\n",
      "Epoch 25/100\n",
      "5216/5216 [==============================] - 0s 16us/sample - loss: 0.2472 - accuracy: 0.8951 - val_loss: 0.6802 - val_accuracy: 0.6987\n",
      "Epoch 26/100\n",
      "5216/5216 [==============================] - 0s 16us/sample - loss: 0.2439 - accuracy: 0.8947 - val_loss: 0.6775 - val_accuracy: 0.7003\n",
      "Epoch 27/100\n",
      "5216/5216 [==============================] - 0s 16us/sample - loss: 0.2429 - accuracy: 0.8942 - val_loss: 0.6772 - val_accuracy: 0.7035\n",
      "Epoch 28/100\n",
      "5216/5216 [==============================] - 0s 16us/sample - loss: 0.2411 - accuracy: 0.8974 - val_loss: 0.6765 - val_accuracy: 0.7051\n",
      "Epoch 29/100\n",
      "5216/5216 [==============================] - 0s 16us/sample - loss: 0.2383 - accuracy: 0.8992 - val_loss: 0.6750 - val_accuracy: 0.7083\n",
      "Epoch 30/100\n",
      "5216/5216 [==============================] - 0s 16us/sample - loss: 0.2358 - accuracy: 0.8967 - val_loss: 0.6728 - val_accuracy: 0.7083\n",
      "Epoch 31/100\n",
      "5216/5216 [==============================] - 0s 16us/sample - loss: 0.2372 - accuracy: 0.8974 - val_loss: 0.6698 - val_accuracy: 0.7083\n",
      "Epoch 32/100\n",
      "5216/5216 [==============================] - 0s 16us/sample - loss: 0.2341 - accuracy: 0.8986 - val_loss: 0.6679 - val_accuracy: 0.7099\n",
      "Epoch 33/100\n",
      "5216/5216 [==============================] - 0s 16us/sample - loss: 0.2324 - accuracy: 0.8970 - val_loss: 0.6619 - val_accuracy: 0.7115\n",
      "Epoch 34/100\n",
      "5216/5216 [==============================] - 0s 16us/sample - loss: 0.2317 - accuracy: 0.9013 - val_loss: 0.6577 - val_accuracy: 0.7115\n",
      "Epoch 35/100\n",
      "5216/5216 [==============================] - 0s 16us/sample - loss: 0.2312 - accuracy: 0.9001 - val_loss: 0.6555 - val_accuracy: 0.7115\n",
      "Epoch 36/100\n",
      "5216/5216 [==============================] - 0s 16us/sample - loss: 0.2297 - accuracy: 0.9032 - val_loss: 0.6553 - val_accuracy: 0.7147\n",
      "Epoch 37/100\n",
      "5216/5216 [==============================] - 0s 17us/sample - loss: 0.2274 - accuracy: 0.9043 - val_loss: 0.6530 - val_accuracy: 0.7163\n",
      "Epoch 38/100\n",
      "5216/5216 [==============================] - 0s 17us/sample - loss: 0.2272 - accuracy: 0.9061 - val_loss: 0.6474 - val_accuracy: 0.7179\n",
      "Epoch 39/100\n",
      "5216/5216 [==============================] - 0s 17us/sample - loss: 0.2261 - accuracy: 0.9053 - val_loss: 0.6468 - val_accuracy: 0.7179\n",
      "Epoch 40/100\n",
      "5216/5216 [==============================] - 0s 16us/sample - loss: 0.2234 - accuracy: 0.9053 - val_loss: 0.6441 - val_accuracy: 0.7212\n",
      "Epoch 41/100\n",
      "5216/5216 [==============================] - 0s 17us/sample - loss: 0.2225 - accuracy: 0.9084 - val_loss: 0.6473 - val_accuracy: 0.7212\n",
      "Epoch 42/100\n",
      "5216/5216 [==============================] - 0s 16us/sample - loss: 0.2225 - accuracy: 0.9053 - val_loss: 0.6442 - val_accuracy: 0.7244\n",
      "Epoch 43/100\n",
      "5216/5216 [==============================] - 0s 17us/sample - loss: 0.2215 - accuracy: 0.9053 - val_loss: 0.6408 - val_accuracy: 0.7292\n",
      "Epoch 44/100\n",
      "5216/5216 [==============================] - 0s 16us/sample - loss: 0.2210 - accuracy: 0.9062 - val_loss: 0.6357 - val_accuracy: 0.7340\n",
      "Epoch 45/100\n",
      "5216/5216 [==============================] - 0s 16us/sample - loss: 0.2183 - accuracy: 0.9093 - val_loss: 0.6328 - val_accuracy: 0.7372\n",
      "Epoch 46/100\n",
      "5216/5216 [==============================] - 0s 16us/sample - loss: 0.2167 - accuracy: 0.9080 - val_loss: 0.6343 - val_accuracy: 0.7356\n",
      "Epoch 47/100\n",
      "5216/5216 [==============================] - 0s 16us/sample - loss: 0.2158 - accuracy: 0.9076 - val_loss: 0.6303 - val_accuracy: 0.7420\n",
      "Epoch 48/100\n",
      "5216/5216 [==============================] - 0s 16us/sample - loss: 0.2171 - accuracy: 0.9074 - val_loss: 0.6305 - val_accuracy: 0.7436\n",
      "Epoch 49/100\n",
      "5216/5216 [==============================] - 0s 16us/sample - loss: 0.2150 - accuracy: 0.9099 - val_loss: 0.6268 - val_accuracy: 0.7436\n",
      "Epoch 50/100\n",
      "5216/5216 [==============================] - 0s 16us/sample - loss: 0.2150 - accuracy: 0.9086 - val_loss: 0.6260 - val_accuracy: 0.7436\n",
      "Epoch 51/100\n",
      "5216/5216 [==============================] - 0s 17us/sample - loss: 0.2144 - accuracy: 0.9082 - val_loss: 0.6261 - val_accuracy: 0.7436\n",
      "Epoch 52/100\n",
      "5216/5216 [==============================] - 0s 16us/sample - loss: 0.2140 - accuracy: 0.9084 - val_loss: 0.6261 - val_accuracy: 0.7468\n",
      "Epoch 53/100\n",
      "5216/5216 [==============================] - 0s 16us/sample - loss: 0.2109 - accuracy: 0.9101 - val_loss: 0.6265 - val_accuracy: 0.7468\n",
      "Epoch 54/100\n",
      "5216/5216 [==============================] - 0s 16us/sample - loss: 0.2099 - accuracy: 0.9130 - val_loss: 0.6233 - val_accuracy: 0.7468\n",
      "Epoch 55/100\n",
      "5216/5216 [==============================] - 0s 16us/sample - loss: 0.2114 - accuracy: 0.9114 - val_loss: 0.6218 - val_accuracy: 0.7484\n"
     ]
    },
    {
     "name": "stdout",
     "output_type": "stream",
     "text": [
      "Epoch 56/100\n",
      "5216/5216 [==============================] - 0s 16us/sample - loss: 0.2100 - accuracy: 0.9137 - val_loss: 0.6256 - val_accuracy: 0.7468\n",
      "Epoch 57/100\n",
      "5216/5216 [==============================] - 0s 16us/sample - loss: 0.2100 - accuracy: 0.9114 - val_loss: 0.6283 - val_accuracy: 0.7484\n",
      "Epoch 58/100\n",
      "5216/5216 [==============================] - 0s 16us/sample - loss: 0.2096 - accuracy: 0.9135 - val_loss: 0.6257 - val_accuracy: 0.7500\n",
      "Epoch 59/100\n",
      "5216/5216 [==============================] - 0s 17us/sample - loss: 0.2073 - accuracy: 0.9141 - val_loss: 0.6245 - val_accuracy: 0.7500\n",
      "Epoch 60/100\n",
      "5216/5216 [==============================] - 0s 16us/sample - loss: 0.2083 - accuracy: 0.9109 - val_loss: 0.6243 - val_accuracy: 0.7532\n",
      "Epoch 61/100\n",
      "5216/5216 [==============================] - 0s 17us/sample - loss: 0.2084 - accuracy: 0.9128 - val_loss: 0.6176 - val_accuracy: 0.7532\n",
      "Epoch 62/100\n",
      "5216/5216 [==============================] - 0s 17us/sample - loss: 0.2072 - accuracy: 0.9155 - val_loss: 0.6211 - val_accuracy: 0.7532\n",
      "Epoch 63/100\n",
      "5216/5216 [==============================] - 0s 17us/sample - loss: 0.2063 - accuracy: 0.9132 - val_loss: 0.6190 - val_accuracy: 0.7564\n",
      "Epoch 64/100\n",
      "5216/5216 [==============================] - 0s 17us/sample - loss: 0.2050 - accuracy: 0.9147 - val_loss: 0.6237 - val_accuracy: 0.7532\n",
      "Epoch 65/100\n",
      "5216/5216 [==============================] - 0s 17us/sample - loss: 0.2042 - accuracy: 0.9166 - val_loss: 0.6220 - val_accuracy: 0.7548\n",
      "Epoch 66/100\n",
      "5216/5216 [==============================] - 0s 16us/sample - loss: 0.2060 - accuracy: 0.9139 - val_loss: 0.6250 - val_accuracy: 0.7532\n",
      "Epoch 67/100\n",
      "5216/5216 [==============================] - 0s 17us/sample - loss: 0.2057 - accuracy: 0.9128 - val_loss: 0.6217 - val_accuracy: 0.7532\n",
      "Epoch 68/100\n",
      "5216/5216 [==============================] - 0s 17us/sample - loss: 0.2037 - accuracy: 0.9156 - val_loss: 0.6206 - val_accuracy: 0.7532\n",
      "Epoch 69/100\n",
      "5216/5216 [==============================] - 0s 16us/sample - loss: 0.2039 - accuracy: 0.9151 - val_loss: 0.6216 - val_accuracy: 0.7532\n",
      "Epoch 70/100\n",
      "5216/5216 [==============================] - 0s 17us/sample - loss: 0.2017 - accuracy: 0.9179 - val_loss: 0.6217 - val_accuracy: 0.7532\n",
      "Epoch 71/100\n",
      "5216/5216 [==============================] - 0s 17us/sample - loss: 0.2022 - accuracy: 0.9174 - val_loss: 0.6269 - val_accuracy: 0.7532\n",
      "Epoch 72/100\n",
      "5216/5216 [==============================] - 0s 17us/sample - loss: 0.2024 - accuracy: 0.9153 - val_loss: 0.6223 - val_accuracy: 0.7580\n",
      "Epoch 73/100\n",
      "5216/5216 [==============================] - 0s 17us/sample - loss: 0.2012 - accuracy: 0.9181 - val_loss: 0.6236 - val_accuracy: 0.7548\n",
      "Epoch 74/100\n",
      "5216/5216 [==============================] - 0s 17us/sample - loss: 0.2022 - accuracy: 0.9162 - val_loss: 0.6250 - val_accuracy: 0.7548\n",
      "Epoch 75/100\n",
      "5216/5216 [==============================] - 0s 16us/sample - loss: 0.2016 - accuracy: 0.9170 - val_loss: 0.6269 - val_accuracy: 0.7548\n",
      "Epoch 76/100\n",
      "5216/5216 [==============================] - 0s 16us/sample - loss: 0.1991 - accuracy: 0.9201 - val_loss: 0.6279 - val_accuracy: 0.7548\n",
      "Epoch 77/100\n",
      "5216/5216 [==============================] - 0s 16us/sample - loss: 0.1985 - accuracy: 0.9193 - val_loss: 0.6251 - val_accuracy: 0.7548\n",
      "Epoch 78/100\n",
      "5216/5216 [==============================] - 0s 16us/sample - loss: 0.2001 - accuracy: 0.9156 - val_loss: 0.6272 - val_accuracy: 0.7548\n",
      "Epoch 79/100\n",
      "5216/5216 [==============================] - 0s 16us/sample - loss: 0.1996 - accuracy: 0.9185 - val_loss: 0.6264 - val_accuracy: 0.7532\n",
      "Epoch 80/100\n",
      "5216/5216 [==============================] - 0s 16us/sample - loss: 0.1999 - accuracy: 0.9149 - val_loss: 0.6236 - val_accuracy: 0.7548\n",
      "Epoch 81/100\n",
      "5216/5216 [==============================] - 0s 16us/sample - loss: 0.1988 - accuracy: 0.9195 - val_loss: 0.6234 - val_accuracy: 0.7548\n",
      "Epoch 82/100\n",
      "5216/5216 [==============================] - 0s 18us/sample - loss: 0.1967 - accuracy: 0.9214 - val_loss: 0.6334 - val_accuracy: 0.7532\n",
      "Epoch 83/100\n",
      "5216/5216 [==============================] - 0s 17us/sample - loss: 0.1990 - accuracy: 0.9168 - val_loss: 0.6315 - val_accuracy: 0.7532\n",
      "Epoch 84/100\n",
      "5216/5216 [==============================] - 0s 16us/sample - loss: 0.1989 - accuracy: 0.9202 - val_loss: 0.6331 - val_accuracy: 0.7532\n",
      "Epoch 85/100\n",
      "5216/5216 [==============================] - 0s 17us/sample - loss: 0.1989 - accuracy: 0.9160 - val_loss: 0.6292 - val_accuracy: 0.7532\n",
      "Epoch 86/100\n",
      "5216/5216 [==============================] - 0s 17us/sample - loss: 0.1976 - accuracy: 0.9178 - val_loss: 0.6326 - val_accuracy: 0.7532\n",
      "Epoch 87/100\n",
      "5216/5216 [==============================] - 0s 17us/sample - loss: 0.1983 - accuracy: 0.9172 - val_loss: 0.6339 - val_accuracy: 0.7532\n",
      "Epoch 88/100\n",
      "5216/5216 [==============================] - 0s 17us/sample - loss: 0.1997 - accuracy: 0.9183 - val_loss: 0.6305 - val_accuracy: 0.7532\n",
      "Epoch 89/100\n",
      "5216/5216 [==============================] - 0s 16us/sample - loss: 0.1982 - accuracy: 0.9187 - val_loss: 0.6306 - val_accuracy: 0.7532\n",
      "Epoch 90/100\n",
      "5216/5216 [==============================] - 0s 16us/sample - loss: 0.1976 - accuracy: 0.9214 - val_loss: 0.6309 - val_accuracy: 0.7532\n",
      "Epoch 91/100\n",
      "5216/5216 [==============================] - 0s 16us/sample - loss: 0.1969 - accuracy: 0.9197 - val_loss: 0.6346 - val_accuracy: 0.7532\n",
      "Epoch 92/100\n",
      "5216/5216 [==============================] - 0s 16us/sample - loss: 0.1968 - accuracy: 0.9212 - val_loss: 0.6321 - val_accuracy: 0.7532\n",
      "Epoch 93/100\n",
      "5216/5216 [==============================] - 0s 18us/sample - loss: 0.1952 - accuracy: 0.9204 - val_loss: 0.6367 - val_accuracy: 0.7532\n",
      "Epoch 94/100\n",
      "5216/5216 [==============================] - 0s 20us/sample - loss: 0.1954 - accuracy: 0.9214 - val_loss: 0.6360 - val_accuracy: 0.7532\n",
      "Epoch 95/100\n",
      "5216/5216 [==============================] - 0s 16us/sample - loss: 0.1961 - accuracy: 0.9201 - val_loss: 0.6309 - val_accuracy: 0.7532\n",
      "Epoch 96/100\n",
      "5216/5216 [==============================] - 0s 17us/sample - loss: 0.1943 - accuracy: 0.9206 - val_loss: 0.6285 - val_accuracy: 0.7532\n",
      "Epoch 97/100\n",
      "5216/5216 [==============================] - 0s 17us/sample - loss: 0.1978 - accuracy: 0.9201 - val_loss: 0.6347 - val_accuracy: 0.7532\n",
      "Epoch 98/100\n",
      "5216/5216 [==============================] - 0s 17us/sample - loss: 0.1945 - accuracy: 0.9202 - val_loss: 0.6356 - val_accuracy: 0.7532\n",
      "Epoch 99/100\n",
      "5216/5216 [==============================] - 0s 17us/sample - loss: 0.1951 - accuracy: 0.9208 - val_loss: 0.6338 - val_accuracy: 0.7532\n",
      "Epoch 100/100\n",
      "5216/5216 [==============================] - 0s 16us/sample - loss: 0.1958 - accuracy: 0.9187 - val_loss: 0.6336 - val_accuracy: 0.7532\n"
     ]
    }
   ],
   "source": [
    "# logistic via NN\n",
    "model = tf.keras.Sequential()\n",
    "model.add(tf.keras.layers.BatchNormalization(axis=-1, momentum=0.99, epsilon=0.001, center=True, scale=True, beta_initializer='zeros', gamma_initializer='ones', moving_mean_initializer='zeros', moving_variance_initializer='ones'));\n",
    "model.add(tf.keras.layers.Dense(1, activation='sigmoid', input_shape=(q1*q2,)))\n",
    "model.compile(loss='binary_crossentropy',optimizer='RMSprop',metrics=['accuracy'])\n",
    "history = model.fit(Xlow_vec, Y, batch_size=250, epochs=100, verbose=1, validation_data=(Xtest_low_vec, Ytest))"
   ]
  },
  {
   "cell_type": "code",
   "execution_count": 16,
   "metadata": {},
   "outputs": [
    {
     "name": "stdout",
     "output_type": "stream",
     "text": [
      "Model: \"sequential\"\n",
      "_________________________________________________________________\n",
      "Layer (type)                 Output Shape              Param #   \n",
      "=================================================================\n",
      "batch_normalization (BatchNo multiple                  100       \n",
      "_________________________________________________________________\n",
      "dense (Dense)                multiple                  26        \n",
      "=================================================================\n",
      "Total params: 126\n",
      "Trainable params: 76\n",
      "Non-trainable params: 50\n",
      "_________________________________________________________________\n"
     ]
    }
   ],
   "source": [
    "model.summary()"
   ]
  },
  {
   "cell_type": "code",
   "execution_count": 17,
   "metadata": {},
   "outputs": [
    {
     "data": {
      "text/plain": [
       "<matplotlib.legend.Legend at 0x7ff860073950>"
      ]
     },
     "execution_count": 17,
     "metadata": {},
     "output_type": "execute_result"
    },
    {
     "data": {
      "image/png": "[encoded data removed]",
      "text/plain": [
       "<Figure size 432x288 with 1 Axes>"
      ]
     },
     "metadata": {
      "needs_background": "light"
     },
     "output_type": "display_data"
    }
   ],
   "source": [
    "# Plot training & validation accuracy values\n",
    "plt.plot(history.history['accuracy'])\n",
    "plt.plot(history.history['val_accuracy'])\n",
    "plt.title('Model accuracy')\n",
    "plt.ylabel('Accuracy')\n",
    "plt.xlabel('Epoch')\n",
    "plt.legend(['Train', 'Test'], loc='upper left')"
   ]
  },
  {
   "cell_type": "code",
   "execution_count": 18,
   "metadata": {},
   "outputs": [
    {
     "data": {
      "text/plain": [
       "<matplotlib.legend.Legend at 0x7ff8a1812a10>"
      ]
     },
     "execution_count": 18,
     "metadata": {},
     "output_type": "execute_result"
    },
    {
     "data": {
      "image/png": "[encoded data removed]",
      "text/plain": [
       "<Figure size 432x288 with 1 Axes>"
      ]
     },
     "metadata": {
      "needs_background": "light"
     },
     "output_type": "display_data"
    }
   ],
   "source": [
    "# Plot training & validation loss values\n",
    "plt.plot(history.history['loss'])\n",
    "plt.plot(history.history['val_loss'])\n",
    "plt.title('Model loss')\n",
    "plt.ylabel('Loss')\n",
    "plt.xlabel('Epoch')\n",
    "plt.legend(['Train', 'Test'], loc='upper left')"
   ]
  },
  {
   "cell_type": "code",
   "execution_count": null,
   "metadata": {},
   "outputs": [],
   "source": []
  }
 ],
 "metadata": {
  "kernelspec": {
   "display_name": "Python 3",
   "language": "python",
   "name": "python3"
  },
  "language_info": {
   "codemirror_mode": {
    "name": "ipython",
    "version": 3
   },
   "file_extension": ".py",
   "mimetype": "text/x-python",
   "name": "python",
   "nbconvert_exporter": "python",
   "pygments_lexer": "ipython3",
   "version": "3.7.6"
  }
 },
 "nbformat": 4,
 "nbformat_minor": 4
}

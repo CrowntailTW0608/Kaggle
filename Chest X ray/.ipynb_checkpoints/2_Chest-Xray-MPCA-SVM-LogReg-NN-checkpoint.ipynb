{
 "cells": [
  {
   "cell_type": "markdown",
   "metadata": {},
   "source": [
    "# For day 2: CNN, comparison with linear SVM and logistic regression, metrics (accuracy, ROC, AUC)"
   ]
  },
  {
   "cell_type": "code",
   "execution_count": 1,
   "metadata": {},
   "outputs": [
    {
     "ename": "ModuleNotFoundError",
     "evalue": "No module named 'tensorflow'",
     "output_type": "error",
     "traceback": [
      "\u001b[1;31m---------------------------------------------------------------------------\u001b[0m",
      "\u001b[1;31mModuleNotFoundError\u001b[0m                       Traceback (most recent call last)",
      "\u001b[1;32m<ipython-input-1-ef333969fa11>\u001b[0m in \u001b[0;36m<module>\u001b[1;34m\u001b[0m\n\u001b[0;32m      1\u001b[0m \u001b[1;32mimport\u001b[0m \u001b[0mos\u001b[0m\u001b[1;33m;\u001b[0m\u001b[1;33m\u001b[0m\u001b[1;33m\u001b[0m\u001b[0m\n\u001b[1;32m----> 2\u001b[1;33m \u001b[1;32mimport\u001b[0m \u001b[0mtensorflow\u001b[0m \u001b[1;32mas\u001b[0m \u001b[0mtf\u001b[0m\u001b[1;33m;\u001b[0m\u001b[1;33m\u001b[0m\u001b[1;33m\u001b[0m\u001b[0m\n\u001b[0m\u001b[0;32m      3\u001b[0m \u001b[1;32mimport\u001b[0m \u001b[0mnumpy\u001b[0m \u001b[1;32mas\u001b[0m \u001b[0mnp\u001b[0m\u001b[1;33m;\u001b[0m\u001b[1;33m\u001b[0m\u001b[1;33m\u001b[0m\u001b[0m\n\u001b[0;32m      4\u001b[0m \u001b[1;32mimport\u001b[0m \u001b[0mmatplotlib\u001b[0m\u001b[1;33m.\u001b[0m\u001b[0mpyplot\u001b[0m \u001b[1;32mas\u001b[0m \u001b[0mplt\u001b[0m\u001b[1;33m;\u001b[0m\u001b[1;33m\u001b[0m\u001b[1;33m\u001b[0m\u001b[0m\n\u001b[0;32m      5\u001b[0m \u001b[1;32mimport\u001b[0m \u001b[0msklearn\u001b[0m\u001b[1;33m;\u001b[0m\u001b[1;33m\u001b[0m\u001b[1;33m\u001b[0m\u001b[0m\n",
      "\u001b[1;31mModuleNotFoundError\u001b[0m: No module named 'tensorflow'"
     ]
    }
   ],
   "source": [
    "import os;\n",
    "import tensorflow as tf;\n",
    "import numpy as np;\n",
    "import matplotlib.pyplot as plt;\n",
    "import sklearn;\n",
    "from sklearn import svm;\n",
    "from sklearn import metrics;\n",
    "# os.environ['KMP_DUPLICATE_LIB_OK']='True'; # for MAC"
   ]
  },
  {
   "cell_type": "code",
   "execution_count": 2,
   "metadata": {},
   "outputs": [],
   "source": [
    "# function\n",
    "def unfold(X, k):\n",
    "    # X: p1,p2,n\n",
    "    n= X.shape[0];\n",
    "    p1 = X.shape[1];\n",
    "    p2 = X.shape[2];\n",
    "    if k == 0:\n",
    "        X = np.transpose(X,(1,2,0));\n",
    "        Xk = np.reshape(X, [p1,n * p2],order='F')\n",
    "    else:\n",
    "        X = np.transpose(X,(2,1,0));\n",
    "        Xk = np.reshape(X, [p2, p1*n],order='F')\n",
    "    return Xk;"
   ]
  },
  {
   "cell_type": "code",
   "execution_count": 3,
   "metadata": {},
   "outputs": [
    {
     "name": "stdout",
     "output_type": "stream",
     "text": [
      "Found 5216 images belonging to 2 classes.\n",
      "Found 16 images belonging to 2 classes.\n",
      "Found 624 images belonging to 2 classes.\n"
     ]
    }
   ],
   "source": [
    "# load data\n",
    "imgX = 224;\n",
    "imgY = 224;\n",
    "train_datagen = tf.keras.preprocessing.image.ImageDataGenerator(\n",
    "    rescale=1./255,\n",
    "    #width_shift_range=0.05,\n",
    "    #height_shift_range=0.15,\n",
    "    #rotation_range=10,\n",
    "    #zoom_range=0.1,\n",
    ")\n",
    "validation_datagen = tf.keras.preprocessing.image.ImageDataGenerator(rescale=1./255)\n",
    "test_datagen = tf.keras.preprocessing.image.ImageDataGenerator(rescale=1./255)\n",
    "\n",
    "# for Chen Laoshi\n",
    "#prefix = '/users/chensuyun/Dropbox/chest-x-ray/data/';\n",
    "prefix = '/users/syhuangmac/Dropbox/chest-x-ray/data/';\n",
    "#prefix = 'data/';\n",
    "\n",
    "train_generator = train_datagen.flow_from_directory(\n",
    "    prefix + 'train',\n",
    "    target_size=(imgX,imgY),\n",
    "    batch_size=5216, # 5216\n",
    "    class_mode=\"binary\", # input --> if unsupervised training\n",
    "    color_mode=\"grayscale\",\n",
    "    shuffle=True,\n",
    ")\n",
    " \n",
    "validation_generator = validation_datagen.flow_from_directory(\n",
    "    prefix + 'val',\n",
    "    target_size=(imgX,imgY),\n",
    "    class_mode=\"binary\",\n",
    "    color_mode=\"grayscale\",\n",
    "    shuffle=False,\n",
    "    batch_size=16,\n",
    ")\n",
    "test_generator = test_datagen.flow_from_directory(\n",
    "    prefix+'test',\n",
    "    target_size=(imgX,imgY),\n",
    "    class_mode=\"binary\",\n",
    "    color_mode=\"grayscale\",\n",
    "    shuffle=False,\n",
    "    batch_size=624,\n",
    ")\n",
    "# num classes\n",
    "num_classes = 2;\n",
    "# X: 5216 x 224 x 224 x 1"
   ]
  },
  {
   "cell_type": "code",
   "execution_count": 4,
   "metadata": {},
   "outputs": [],
   "source": [
    "# 設定低維度空間的維度\n",
    "q1 = 10;\n",
    "q2 = 10;"
   ]
  },
  {
   "cell_type": "code",
   "execution_count": 5,
   "metadata": {},
   "outputs": [
    {
     "name": "stdout",
     "output_type": "stream",
     "text": [
      "size of X:\n",
      "(5216, 224, 224)\n"
     ]
    }
   ],
   "source": [
    "# 讀取訓練資料\n",
    "X,Y = train_generator.next();\n",
    "X = np.reshape(X,[X.shape[0], X.shape[1], X.shape[2]]); # reshape to n x p1 x p2\n",
    "print('size of X:')\n",
    "print(X.shape);\n",
    "n = X.shape[0];\n",
    "p1 = X.shape[1];\n",
    "p2 = X.shape[2];"
   ]
  },
  {
   "cell_type": "code",
   "execution_count": 6,
   "metadata": {},
   "outputs": [
    {
     "name": "stdout",
     "output_type": "stream",
     "text": [
      "size of Xtest:\n",
      "(624, 224, 224)\n"
     ]
    }
   ],
   "source": [
    "# 讀取測試資料\n",
    "Xtest, Ytest = test_generator.next();\n",
    "m = Xtest.shape[0];\n",
    "Xtest = np.reshape(Xtest, [m, p1, p2]);\n",
    "print('size of Xtest:');\n",
    "print(Xtest.shape);"
   ]
  },
  {
   "cell_type": "code",
   "execution_count": 7,
   "metadata": {},
   "outputs": [
    {
     "name": "stdout",
     "output_type": "stream",
     "text": [
      "size of X(1) and X(2):\n",
      "(224, 1168384)\n",
      "(224, 1168384)\n",
      "size of A and B:\n",
      "(224, 10)\n",
      "(224, 10)\n"
     ]
    }
   ],
   "source": [
    "# 做HOSVD，並將其輸出當作MPCA迭代程式\n",
    "X1 = unfold(X,0); # p x nq; X_{(col)}\n",
    "X2 = unfold(X,1); # p x nq; X_{(row)}\n",
    "print('size of X(1) and X(2):')\n",
    "print(X1.shape);\n",
    "print(X2.shape);\n",
    "U1, S1, V1 = np.linalg.svd(X1 @ X1.T); # size p x p matrix SVD\n",
    "U2, S2, V2 = np.linalg.svd(X2 @ X2.T); # size q x q matrix SVD\n",
    "A = U1[:,0:q1];\n",
    "B = U2[:,0:q2];\n",
    "print('size of A and B:')\n",
    "print(A.shape);\n",
    "print(B.shape);"
   ]
  },
  {
   "cell_type": "code",
   "execution_count": 8,
   "metadata": {},
   "outputs": [
    {
     "name": "stdout",
     "output_type": "stream",
     "text": [
      "253.14383\n",
      "253.14319\n",
      "253.14319\n"
     ]
    }
   ],
   "source": [
    "# GLRAM: MPCA的演算法之一\n",
    "count = 3; # num of iterations\n",
    "for i in range(count):\n",
    "    # update A\n",
    "    Bn = np.expand_dims(B,0) # --> [1,p2,q2]\n",
    "    Bn = np.tile(Bn,[n,1,1]); # --> [n,p2,q2]\n",
    "    XB = np.matmul(X,Bn); # --> [n,p1,q2]\n",
    "    XB2 = unfold(XB,0); # --> [p1,n*q2]\n",
    "    U1,S1,V1 = np.linalg.svd(XB2 @ XB2.T)\n",
    "    A = U1[:,0:q1];\n",
    "    \n",
    "    # update B\n",
    "    ATn = np.expand_dims(A.T,0) # --> [1,q1,p1]\n",
    "    ATn = np.tile(ATn,[n,1,1]); # --> [n,q1,p1]\n",
    "    AX = np.matmul(ATn,X); # --> [n,q1,p2]\n",
    "    AX1 = unfold(AX,1); # --> [p2,n*q1]\n",
    "    U2,S2,V2 = np.linalg.svd(AX1 @ AX1.T)\n",
    "    B = U2[:,0:q2];\n",
    "    \n",
    "    # compute reconstruction error\n",
    "    AATn = np.expand_dims(A @ A.T,0);\n",
    "    AATn = np.tile(AATn,[n,1,1]);\n",
    "    BBTn = np.expand_dims(B @ B.T,0);\n",
    "    BBTn = np.tile(BBTn,[n,1,1]);\n",
    "    X_ = AATn @ X @ BBTn;\n",
    "    error = np.sum(np.sum(np.square(X-X_),axis=1),axis=1);\n",
    "    print(np.mean(error));"
   ]
  },
  {
   "cell_type": "code",
   "execution_count": 9,
   "metadata": {},
   "outputs": [
    {
     "name": "stdout",
     "output_type": "stream",
     "text": [
      "size of Xlow and Xtest_low:\n",
      "(5216, 10, 10)\n",
      "(624, 10, 10)\n"
     ]
    }
   ],
   "source": [
    "# 對訓練資料和測試資料做降維\n",
    "An = np.expand_dims(A, 0); # --> [1,p1,q1]\n",
    "An = np.tile(An, [n,1,1]); # --> [n,p1,q1]\n",
    "AnT = np.transpose(An, (0,2,1)); # --> [n,q1,p1]\n",
    "Bn = np.expand_dims(B,0); # --> [1,p1,q1]\n",
    "Bn = np.tile(Bn, [n,1,1]); # --> [n,p1,q1]\n",
    "Xlow = AnT @ X @ Bn; # --> [n,q1,q2]\n",
    "# \n",
    "Am = np.expand_dims(A, 0); # --> [1,p1,q1]\n",
    "Am = np.tile(Am, [m,1,1]); # --> [n,p1,q1]\n",
    "AmT = np.transpose(Am, (0,2,1)); # --> [n,q1,p1]\n",
    "Bm = np.expand_dims(B,0); # --> [1,p1,q1]\n",
    "Bm = np.tile(Bm, [m,1,1]); # --> [n,p1,q1]\n",
    "Xtest_low = AmT @ Xtest @ Bm; # --> [n,q1,q2]\n",
    "#\n",
    "print('size of Xlow and Xtest_low:');\n",
    "print(Xlow.shape);\n",
    "print(Xtest_low.shape);"
   ]
  },
  {
   "cell_type": "code",
   "execution_count": 10,
   "metadata": {},
   "outputs": [],
   "source": [
    "# 對testing data 做reconstruction的動作\n",
    "AATm = np.expand_dims(A @ A.T, 0);\n",
    "BBTm = np.expand_dims(B @ B.T, 0);\n",
    "AATm = np.tile(AATm,[m,1,1]);\n",
    "BBTm = np.tile(BBTm,[m,1,1]);\n",
    "Xtest_reconst = AATm @ Xtest @ BBTm;"
   ]
  },
  {
   "cell_type": "code",
   "execution_count": 11,
   "metadata": {},
   "outputs": [],
   "source": [
    "######################## SVM分類器 ###########################"
   ]
  },
  {
   "cell_type": "code",
   "execution_count": 12,
   "metadata": {},
   "outputs": [],
   "source": [
    "# 將資料向量化\n",
    "Xlow_vec = np.reshape(Xlow, [n,q1*q2], order='F');\n",
    "Xtest_low_vec = np.reshape(Xtest_low, [m, q1*q2], order='F');"
   ]
  },
  {
   "cell_type": "code",
   "execution_count": 13,
   "metadata": {},
   "outputs": [
    {
     "name": "stdout",
     "output_type": "stream",
     "text": [
      "0.7435897435897436\n",
      "0.7644230769230769\n"
     ]
    }
   ],
   "source": [
    "# 訓練SVM 1\n",
    "mysvm = svm.SVC(kernel='linear', C=1);  \n",
    "mysvm.fit(Xlow_vec, Y);\n",
    "Ytest_predict = mysvm.predict(Xtest_low_vec); # 預測\n",
    "svm_accuracy = np.sum(Ytest == Ytest_predict) / m;\n",
    "print(svm_accuracy);\n",
    "\n",
    "mysvm2 = svm.SVC(kernel='rbf', C=1); # gamma = default for 'rbf'\n",
    "mysvm2.fit(Xlow_vec, Y);\n",
    "Ytest_predict = mysvm2.predict(Xtest_low_vec); # 預測\n",
    "svm_accuracy = np.sum(Ytest == Ytest_predict) / m;\n",
    "print(svm_accuracy);"
   ]
  },
  {
   "cell_type": "code",
   "execution_count": 14,
   "metadata": {},
   "outputs": [
    {
     "name": "stdout",
     "output_type": "stream",
     "text": [
      "Train on 5216 samples, validate on 624 samples\n",
      "Epoch 1/50\n",
      "5216/5216 [==============================] - 1s 209us/sample - loss: 0.7351 - accuracy: 0.5690 - val_loss: 0.8649 - val_accuracy: 0.5096\n",
      "Epoch 2/50\n",
      "5216/5216 [==============================] - 0s 18us/sample - loss: 0.5489 - accuracy: 0.7304 - val_loss: 0.6870 - val_accuracy: 0.6026\n",
      "Epoch 3/50\n",
      "5216/5216 [==============================] - 0s 18us/sample - loss: 0.4360 - accuracy: 0.8142 - val_loss: 0.5681 - val_accuracy: 0.7083\n",
      "Epoch 4/50\n",
      "5216/5216 [==============================] - 0s 18us/sample - loss: 0.3581 - accuracy: 0.8618 - val_loss: 0.4992 - val_accuracy: 0.7612\n",
      "Epoch 5/50\n",
      "5216/5216 [==============================] - 0s 18us/sample - loss: 0.3042 - accuracy: 0.8901 - val_loss: 0.4680 - val_accuracy: 0.7692\n",
      "Epoch 6/50\n",
      "5216/5216 [==============================] - 0s 18us/sample - loss: 0.2638 - accuracy: 0.9066 - val_loss: 0.4645 - val_accuracy: 0.7692\n",
      "Epoch 7/50\n",
      "5216/5216 [==============================] - 0s 18us/sample - loss: 0.2371 - accuracy: 0.9193 - val_loss: 0.4752 - val_accuracy: 0.7548\n",
      "Epoch 8/50\n",
      "5216/5216 [==============================] - 0s 17us/sample - loss: 0.2160 - accuracy: 0.9227 - val_loss: 0.4981 - val_accuracy: 0.7468\n",
      "Epoch 9/50\n",
      "5216/5216 [==============================] - 0s 18us/sample - loss: 0.2000 - accuracy: 0.9277 - val_loss: 0.5152 - val_accuracy: 0.7548\n",
      "Epoch 10/50\n",
      "5216/5216 [==============================] - 0s 18us/sample - loss: 0.1886 - accuracy: 0.9317 - val_loss: 0.5390 - val_accuracy: 0.7532\n",
      "Epoch 11/50\n",
      "5216/5216 [==============================] - 0s 18us/sample - loss: 0.1795 - accuracy: 0.9354 - val_loss: 0.5544 - val_accuracy: 0.7532\n",
      "Epoch 12/50\n",
      "5216/5216 [==============================] - 0s 18us/sample - loss: 0.1700 - accuracy: 0.9390 - val_loss: 0.5695 - val_accuracy: 0.7548\n",
      "Epoch 13/50\n",
      "5216/5216 [==============================] - 0s 18us/sample - loss: 0.1639 - accuracy: 0.9419 - val_loss: 0.5853 - val_accuracy: 0.7548\n",
      "Epoch 14/50\n",
      "5216/5216 [==============================] - 0s 17us/sample - loss: 0.1584 - accuracy: 0.9419 - val_loss: 0.5934 - val_accuracy: 0.7548\n",
      "Epoch 15/50\n",
      "5216/5216 [==============================] - 0s 20us/sample - loss: 0.1532 - accuracy: 0.9438 - val_loss: 0.6003 - val_accuracy: 0.7580\n",
      "Epoch 16/50\n",
      "5216/5216 [==============================] - 0s 19us/sample - loss: 0.1489 - accuracy: 0.9467 - val_loss: 0.6096 - val_accuracy: 0.7564\n",
      "Epoch 17/50\n",
      "5216/5216 [==============================] - 0s 19us/sample - loss: 0.1458 - accuracy: 0.9467 - val_loss: 0.6248 - val_accuracy: 0.7548\n",
      "Epoch 18/50\n",
      "5216/5216 [==============================] - 0s 20us/sample - loss: 0.1411 - accuracy: 0.9488 - val_loss: 0.6467 - val_accuracy: 0.7484\n",
      "Epoch 19/50\n",
      "5216/5216 [==============================] - 0s 19us/sample - loss: 0.1406 - accuracy: 0.9496 - val_loss: 0.6408 - val_accuracy: 0.7548\n",
      "Epoch 20/50\n",
      "5216/5216 [==============================] - 0s 18us/sample - loss: 0.1359 - accuracy: 0.9498 - val_loss: 0.6522 - val_accuracy: 0.7548\n",
      "Epoch 21/50\n",
      "5216/5216 [==============================] - 0s 18us/sample - loss: 0.1349 - accuracy: 0.9519 - val_loss: 0.6544 - val_accuracy: 0.7564\n",
      "Epoch 22/50\n",
      "5216/5216 [==============================] - 0s 18us/sample - loss: 0.1318 - accuracy: 0.9536 - val_loss: 0.6571 - val_accuracy: 0.7548\n",
      "Epoch 23/50\n",
      "5216/5216 [==============================] - 0s 18us/sample - loss: 0.1304 - accuracy: 0.9544 - val_loss: 0.6651 - val_accuracy: 0.7548\n",
      "Epoch 24/50\n",
      "5216/5216 [==============================] - 0s 18us/sample - loss: 0.1287 - accuracy: 0.9530 - val_loss: 0.6746 - val_accuracy: 0.7516\n",
      "Epoch 25/50\n",
      "5216/5216 [==============================] - 0s 18us/sample - loss: 0.1256 - accuracy: 0.9546 - val_loss: 0.6858 - val_accuracy: 0.7484\n",
      "Epoch 26/50\n",
      "5216/5216 [==============================] - 0s 17us/sample - loss: 0.1262 - accuracy: 0.9534 - val_loss: 0.6878 - val_accuracy: 0.7468\n",
      "Epoch 27/50\n",
      "5216/5216 [==============================] - 0s 18us/sample - loss: 0.1240 - accuracy: 0.9548 - val_loss: 0.6897 - val_accuracy: 0.7484\n",
      "Epoch 28/50\n",
      "5216/5216 [==============================] - 0s 18us/sample - loss: 0.1208 - accuracy: 0.9551 - val_loss: 0.7026 - val_accuracy: 0.7452\n",
      "Epoch 29/50\n",
      "5216/5216 [==============================] - 0s 19us/sample - loss: 0.1214 - accuracy: 0.9538 - val_loss: 0.7104 - val_accuracy: 0.7468\n",
      "Epoch 30/50\n",
      "5216/5216 [==============================] - 0s 18us/sample - loss: 0.1226 - accuracy: 0.9546 - val_loss: 0.7078 - val_accuracy: 0.7484\n",
      "Epoch 31/50\n",
      "5216/5216 [==============================] - 0s 19us/sample - loss: 0.1195 - accuracy: 0.9559 - val_loss: 0.7121 - val_accuracy: 0.7484\n",
      "Epoch 32/50\n",
      "5216/5216 [==============================] - 0s 19us/sample - loss: 0.1187 - accuracy: 0.9565 - val_loss: 0.7160 - val_accuracy: 0.7516\n",
      "Epoch 33/50\n",
      "5216/5216 [==============================] - 0s 19us/sample - loss: 0.1171 - accuracy: 0.9567 - val_loss: 0.7208 - val_accuracy: 0.7516\n",
      "Epoch 34/50\n",
      "5216/5216 [==============================] - 0s 18us/sample - loss: 0.1165 - accuracy: 0.9584 - val_loss: 0.7303 - val_accuracy: 0.7500\n",
      "Epoch 35/50\n",
      "5216/5216 [==============================] - 0s 18us/sample - loss: 0.1163 - accuracy: 0.9576 - val_loss: 0.7292 - val_accuracy: 0.7516\n",
      "Epoch 36/50\n",
      "5216/5216 [==============================] - 0s 19us/sample - loss: 0.1130 - accuracy: 0.9590 - val_loss: 0.7359 - val_accuracy: 0.7516\n",
      "Epoch 37/50\n",
      "5216/5216 [==============================] - 0s 19us/sample - loss: 0.1158 - accuracy: 0.9574 - val_loss: 0.7389 - val_accuracy: 0.7516\n",
      "Epoch 38/50\n",
      "5216/5216 [==============================] - 0s 20us/sample - loss: 0.1134 - accuracy: 0.9582 - val_loss: 0.7442 - val_accuracy: 0.7516\n",
      "Epoch 39/50\n",
      "5216/5216 [==============================] - 0s 19us/sample - loss: 0.1121 - accuracy: 0.9565 - val_loss: 0.7536 - val_accuracy: 0.7516\n",
      "Epoch 40/50\n",
      "5216/5216 [==============================] - 0s 19us/sample - loss: 0.1127 - accuracy: 0.9592 - val_loss: 0.7516 - val_accuracy: 0.7532\n",
      "Epoch 41/50\n",
      "5216/5216 [==============================] - 0s 19us/sample - loss: 0.1111 - accuracy: 0.9613 - val_loss: 0.7483 - val_accuracy: 0.7548\n",
      "Epoch 42/50\n",
      "5216/5216 [==============================] - 0s 20us/sample - loss: 0.1121 - accuracy: 0.9605 - val_loss: 0.7568 - val_accuracy: 0.7548\n",
      "Epoch 43/50\n",
      "5216/5216 [==============================] - 0s 20us/sample - loss: 0.1133 - accuracy: 0.9571 - val_loss: 0.7636 - val_accuracy: 0.7548\n",
      "Epoch 44/50\n",
      "5216/5216 [==============================] - 0s 19us/sample - loss: 0.1100 - accuracy: 0.9609 - val_loss: 0.7647 - val_accuracy: 0.7532\n",
      "Epoch 45/50\n",
      "5216/5216 [==============================] - 0s 20us/sample - loss: 0.1086 - accuracy: 0.9601 - val_loss: 0.7607 - val_accuracy: 0.7564\n",
      "Epoch 46/50\n",
      "5216/5216 [==============================] - 0s 20us/sample - loss: 0.1110 - accuracy: 0.9584 - val_loss: 0.7694 - val_accuracy: 0.7564\n",
      "Epoch 47/50\n",
      "5216/5216 [==============================] - 0s 19us/sample - loss: 0.1113 - accuracy: 0.9584 - val_loss: 0.7731 - val_accuracy: 0.7564\n",
      "Epoch 48/50\n",
      "5216/5216 [==============================] - 0s 19us/sample - loss: 0.1063 - accuracy: 0.9630 - val_loss: 0.7768 - val_accuracy: 0.7548\n",
      "Epoch 49/50\n",
      "5216/5216 [==============================] - 0s 20us/sample - loss: 0.1095 - accuracy: 0.9592 - val_loss: 0.7844 - val_accuracy: 0.7548\n",
      "Epoch 50/50\n",
      "5216/5216 [==============================] - 0s 19us/sample - loss: 0.1085 - accuracy: 0.9599 - val_loss: 0.7893 - val_accuracy: 0.7548\n"
     ]
    }
   ],
   "source": [
    "# logistic via NN\n",
    "model = tf.keras.Sequential()\n",
    "model.add(tf.keras.layers.BatchNormalization(axis=-1, momentum=0.99, epsilon=0.001, center=True, scale=True, beta_initializer='zeros', gamma_initializer='ones', moving_mean_initializer='zeros', moving_variance_initializer='ones'));\n",
    "model.add(tf.keras.layers.Dense(1, activation='sigmoid', input_shape=(q1*q2,)))\n",
    "model.compile(loss='binary_crossentropy',optimizer='RMSprop',metrics=['accuracy'])\n",
    "history = model.fit(Xlow_vec, Y, batch_size=250, epochs=50, verbose=1, validation_data=(Xtest_low_vec, Ytest))"
   ]
  },
  {
   "cell_type": "code",
   "execution_count": 15,
   "metadata": {},
   "outputs": [],
   "source": [
    "####################### Neural Network 分類器 #########################"
   ]
  },
  {
   "cell_type": "code",
   "execution_count": 16,
   "metadata": {},
   "outputs": [],
   "source": [
    "#y_train = tf.keras.utils.to_categorical(Y, num_classes)\n",
    "#y_test = tf.keras.utils.to_categorical(Ytest, num_classes)"
   ]
  },
  {
   "cell_type": "code",
   "execution_count": 17,
   "metadata": {},
   "outputs": [
    {
     "name": "stdout",
     "output_type": "stream",
     "text": [
      "Train on 5216 samples, validate on 624 samples\n",
      "Epoch 1/50\n",
      "5216/5216 [==============================] - 2s 433us/sample - loss: 0.8112 - accuracy: 0.5128 - auc: 0.4091 - val_loss: 1.7313 - val_accuracy: 0.3798 - val_auc: 0.6252\n",
      "Epoch 2/50\n",
      "5216/5216 [==============================] - 0s 26us/sample - loss: 0.6416 - accuracy: 0.6806 - auc: 0.7106 - val_loss: 0.8158 - val_accuracy: 0.5048 - val_auc: 0.7769\n",
      "Epoch 3/50\n",
      "5216/5216 [==============================] - 0s 26us/sample - loss: 0.4953 - accuracy: 0.8087 - auc: 0.8905 - val_loss: 0.5416 - val_accuracy: 0.7404 - val_auc: 0.8184\n",
      "Epoch 4/50\n",
      "5216/5216 [==============================] - 0s 26us/sample - loss: 0.3874 - accuracy: 0.8827 - auc: 0.9529 - val_loss: 0.5040 - val_accuracy: 0.7660 - val_auc: 0.8223\n",
      "Epoch 5/50\n",
      "5216/5216 [==============================] - 0s 27us/sample - loss: 0.3238 - accuracy: 0.9118 - auc: 0.9701 - val_loss: 0.4741 - val_accuracy: 0.7869 - val_auc: 0.8417\n",
      "Epoch 6/50\n",
      "5216/5216 [==============================] - 0s 27us/sample - loss: 0.2836 - accuracy: 0.9252 - auc: 0.9761 - val_loss: 0.4703 - val_accuracy: 0.7756 - val_auc: 0.8524\n",
      "Epoch 7/50\n",
      "5216/5216 [==============================] - 0s 27us/sample - loss: 0.2522 - accuracy: 0.9356 - auc: 0.9811 - val_loss: 0.4764 - val_accuracy: 0.7612 - val_auc: 0.8587\n",
      "Epoch 8/50\n",
      "5216/5216 [==============================] - 0s 26us/sample - loss: 0.2260 - accuracy: 0.9436 - auc: 0.9833 - val_loss: 0.5051 - val_accuracy: 0.7484 - val_auc: 0.8551\n",
      "Epoch 9/50\n",
      "5216/5216 [==============================] - 0s 26us/sample - loss: 0.2051 - accuracy: 0.9467 - auc: 0.9850 - val_loss: 0.4879 - val_accuracy: 0.7788 - val_auc: 0.8586\n",
      "Epoch 10/50\n",
      "5216/5216 [==============================] - 0s 26us/sample - loss: 0.1879 - accuracy: 0.9511 - auc: 0.9860 - val_loss: 0.5137 - val_accuracy: 0.7644 - val_auc: 0.8570\n",
      "Epoch 11/50\n",
      "5216/5216 [==============================] - 0s 26us/sample - loss: 0.1773 - accuracy: 0.9511 - auc: 0.9855 - val_loss: 0.4816 - val_accuracy: 0.7804 - val_auc: 0.8722\n",
      "Epoch 12/50\n",
      "5216/5216 [==============================] - 0s 26us/sample - loss: 0.1611 - accuracy: 0.9555 - auc: 0.9878 - val_loss: 0.5098 - val_accuracy: 0.7756 - val_auc: 0.8706\n",
      "Epoch 13/50\n",
      "5216/5216 [==============================] - 0s 26us/sample - loss: 0.1510 - accuracy: 0.9565 - auc: 0.9887 - val_loss: 0.5304 - val_accuracy: 0.7692 - val_auc: 0.8706\n",
      "Epoch 14/50\n",
      "5216/5216 [==============================] - 0s 26us/sample - loss: 0.1428 - accuracy: 0.9571 - auc: 0.9891 - val_loss: 0.5242 - val_accuracy: 0.7756 - val_auc: 0.8754\n",
      "Epoch 15/50\n",
      "5216/5216 [==============================] - 0s 26us/sample - loss: 0.1365 - accuracy: 0.9590 - auc: 0.9894 - val_loss: 0.5394 - val_accuracy: 0.7724 - val_auc: 0.8787\n",
      "Epoch 16/50\n",
      "5216/5216 [==============================] - 0s 26us/sample - loss: 0.1291 - accuracy: 0.9611 - auc: 0.9901 - val_loss: 0.5253 - val_accuracy: 0.7821 - val_auc: 0.8842\n",
      "Epoch 17/50\n",
      "5216/5216 [==============================] - 0s 26us/sample - loss: 0.1219 - accuracy: 0.9618 - auc: 0.9906 - val_loss: 0.5781 - val_accuracy: 0.7644 - val_auc: 0.8794\n",
      "Epoch 18/50\n",
      "5216/5216 [==============================] - 0s 26us/sample - loss: 0.1194 - accuracy: 0.9634 - auc: 0.9896 - val_loss: 0.5729 - val_accuracy: 0.7804 - val_auc: 0.8802\n",
      "Epoch 19/50\n",
      "5216/5216 [==============================] - 0s 26us/sample - loss: 0.1152 - accuracy: 0.9622 - auc: 0.9907 - val_loss: 0.6035 - val_accuracy: 0.7676 - val_auc: 0.8855\n",
      "Epoch 20/50\n",
      "5216/5216 [==============================] - 0s 26us/sample - loss: 0.1136 - accuracy: 0.9622 - auc: 0.9904 - val_loss: 0.6539 - val_accuracy: 0.7596 - val_auc: 0.8745\n",
      "Epoch 21/50\n",
      "5216/5216 [==============================] - 0s 26us/sample - loss: 0.1057 - accuracy: 0.9659 - auc: 0.9916 - val_loss: 0.6598 - val_accuracy: 0.7612 - val_auc: 0.8814\n",
      "Epoch 22/50\n",
      "5216/5216 [==============================] - 0s 26us/sample - loss: 0.1038 - accuracy: 0.9641 - auc: 0.9917 - val_loss: 0.6518 - val_accuracy: 0.7644 - val_auc: 0.8868\n",
      "Epoch 23/50\n",
      "5216/5216 [==============================] - 0s 27us/sample - loss: 0.1012 - accuracy: 0.9651 - auc: 0.9917 - val_loss: 0.6343 - val_accuracy: 0.7724 - val_auc: 0.8916\n",
      "Epoch 24/50\n",
      "5216/5216 [==============================] - 0s 26us/sample - loss: 0.0992 - accuracy: 0.9647 - auc: 0.9921 - val_loss: 0.6891 - val_accuracy: 0.7580 - val_auc: 0.8905\n",
      "Epoch 25/50\n",
      "5216/5216 [==============================] - 0s 26us/sample - loss: 0.1002 - accuracy: 0.9651 - auc: 0.9916 - val_loss: 0.6955 - val_accuracy: 0.7612 - val_auc: 0.8909\n",
      "Epoch 26/50\n",
      "5216/5216 [==============================] - 0s 26us/sample - loss: 0.0941 - accuracy: 0.9674 - auc: 0.9925 - val_loss: 0.7416 - val_accuracy: 0.7532 - val_auc: 0.8850\n",
      "Epoch 27/50\n",
      "5216/5216 [==============================] - 0s 26us/sample - loss: 0.0950 - accuracy: 0.9680 - auc: 0.9921 - val_loss: 0.7357 - val_accuracy: 0.7548 - val_auc: 0.8857\n",
      "Epoch 28/50\n",
      "5216/5216 [==============================] - 0s 27us/sample - loss: 0.0909 - accuracy: 0.9693 - auc: 0.9924 - val_loss: 0.7816 - val_accuracy: 0.7468 - val_auc: 0.8849\n",
      "Epoch 29/50\n",
      "5216/5216 [==============================] - 0s 27us/sample - loss: 0.0942 - accuracy: 0.9666 - auc: 0.9918 - val_loss: 0.6730 - val_accuracy: 0.7676 - val_auc: 0.8936\n",
      "Epoch 30/50\n",
      "5216/5216 [==============================] - 0s 26us/sample - loss: 0.0885 - accuracy: 0.9703 - auc: 0.9925 - val_loss: 0.6997 - val_accuracy: 0.7644 - val_auc: 0.8942\n",
      "Epoch 31/50\n",
      "5216/5216 [==============================] - 0s 26us/sample - loss: 0.0911 - accuracy: 0.9684 - auc: 0.9921 - val_loss: 0.7215 - val_accuracy: 0.7676 - val_auc: 0.8899\n",
      "Epoch 32/50\n",
      "5216/5216 [==============================] - 0s 26us/sample - loss: 0.0863 - accuracy: 0.9707 - auc: 0.9930 - val_loss: 0.7924 - val_accuracy: 0.7516 - val_auc: 0.8859\n",
      "Epoch 33/50\n",
      "5216/5216 [==============================] - 0s 27us/sample - loss: 0.0883 - accuracy: 0.9709 - auc: 0.9925 - val_loss: 0.7691 - val_accuracy: 0.7580 - val_auc: 0.8828\n",
      "Epoch 34/50\n",
      "5216/5216 [==============================] - 0s 26us/sample - loss: 0.0864 - accuracy: 0.9712 - auc: 0.9926 - val_loss: 0.7931 - val_accuracy: 0.7516 - val_auc: 0.8806\n",
      "Epoch 35/50\n",
      "5216/5216 [==============================] - 0s 26us/sample - loss: 0.0878 - accuracy: 0.9686 - auc: 0.9924 - val_loss: 0.7269 - val_accuracy: 0.7628 - val_auc: 0.8891\n",
      "Epoch 36/50\n",
      "5216/5216 [==============================] - 0s 27us/sample - loss: 0.0838 - accuracy: 0.9726 - auc: 0.9932 - val_loss: 0.6924 - val_accuracy: 0.7821 - val_auc: 0.8986\n",
      "Epoch 37/50\n",
      "5216/5216 [==============================] - 0s 26us/sample - loss: 0.0862 - accuracy: 0.9726 - auc: 0.9924 - val_loss: 0.8136 - val_accuracy: 0.7548 - val_auc: 0.8791\n",
      "Epoch 38/50\n",
      "5216/5216 [==============================] - 0s 26us/sample - loss: 0.0834 - accuracy: 0.9718 - auc: 0.9930 - val_loss: 0.8280 - val_accuracy: 0.7564 - val_auc: 0.8761\n",
      "Epoch 39/50\n",
      "5216/5216 [==============================] - 0s 26us/sample - loss: 0.0830 - accuracy: 0.9707 - auc: 0.9929 - val_loss: 0.7730 - val_accuracy: 0.7660 - val_auc: 0.8819\n",
      "Epoch 40/50\n",
      "5216/5216 [==============================] - 0s 26us/sample - loss: 0.0823 - accuracy: 0.9720 - auc: 0.9929 - val_loss: 0.8498 - val_accuracy: 0.7484 - val_auc: 0.8710\n",
      "Epoch 41/50\n",
      "5216/5216 [==============================] - 0s 27us/sample - loss: 0.0794 - accuracy: 0.9726 - auc: 0.9934 - val_loss: 0.8155 - val_accuracy: 0.7612 - val_auc: 0.8791\n",
      "Epoch 42/50\n",
      "5216/5216 [==============================] - 0s 26us/sample - loss: 0.0818 - accuracy: 0.9716 - auc: 0.9930 - val_loss: 0.7858 - val_accuracy: 0.7692 - val_auc: 0.8781\n",
      "Epoch 43/50\n",
      "5216/5216 [==============================] - 0s 26us/sample - loss: 0.0805 - accuracy: 0.9722 - auc: 0.9933 - val_loss: 0.8752 - val_accuracy: 0.7484 - val_auc: 0.8742\n",
      "Epoch 44/50\n",
      "5216/5216 [==============================] - 0s 26us/sample - loss: 0.0793 - accuracy: 0.9720 - auc: 0.9935 - val_loss: 0.7802 - val_accuracy: 0.7676 - val_auc: 0.8836\n",
      "Epoch 45/50\n",
      "5216/5216 [==============================] - 0s 26us/sample - loss: 0.0793 - accuracy: 0.9728 - auc: 0.9936 - val_loss: 0.8360 - val_accuracy: 0.7548 - val_auc: 0.8801\n",
      "Epoch 46/50\n",
      "5216/5216 [==============================] - 0s 26us/sample - loss: 0.0814 - accuracy: 0.9737 - auc: 0.9933 - val_loss: 0.7962 - val_accuracy: 0.7660 - val_auc: 0.8846\n",
      "Epoch 47/50\n",
      "5216/5216 [==============================] - 0s 26us/sample - loss: 0.0803 - accuracy: 0.9732 - auc: 0.9935 - val_loss: 0.7385 - val_accuracy: 0.7740 - val_auc: 0.8880\n",
      "Epoch 48/50\n",
      "5216/5216 [==============================] - 0s 26us/sample - loss: 0.0782 - accuracy: 0.9743 - auc: 0.9933 - val_loss: 0.7598 - val_accuracy: 0.7708 - val_auc: 0.8841\n",
      "Epoch 49/50\n",
      "5216/5216 [==============================] - 0s 26us/sample - loss: 0.0764 - accuracy: 0.9739 - auc: 0.9941 - val_loss: 0.7906 - val_accuracy: 0.7692 - val_auc: 0.8843\n",
      "Epoch 50/50\n",
      "5216/5216 [==============================] - 0s 26us/sample - loss: 0.0784 - accuracy: 0.9737 - auc: 0.9936 - val_loss: 0.7869 - val_accuracy: 0.7708 - val_auc: 0.8832\n"
     ]
    }
   ],
   "source": [
    "model = tf.keras.Sequential()\n",
    "model.add(tf.keras.layers.Dense(8, activation='relu', input_shape=(q1*q2,)))\n",
    "model.add(tf.keras.layers.BatchNormalization(axis=-1, momentum=0.99, epsilon=0.001, center=True, scale=True, beta_initializer='zeros', gamma_initializer='ones', moving_mean_initializer='zeros', moving_variance_initializer='ones'));\n",
    "model.add(tf.keras.layers.Dense(4, activation='relu'))\n",
    "model.add(tf.keras.layers.BatchNormalization(axis=-1, momentum=0.99, epsilon=0.001, center=True, scale=True, beta_initializer='zeros', gamma_initializer='ones', moving_mean_initializer='zeros', moving_variance_initializer='ones'));\n",
    "model.add(tf.keras.layers.Dense(1, activation='sigmoid'))\n",
    "model.compile(loss='binary_crossentropy',optimizer='RMSprop',metrics=['accuracy', tf.keras.metrics.AUC(num_thresholds=200, curve='ROC', summation_method='interpolation')]); # or 'AUC' also works.\n",
    "history = model.fit(Xlow_vec, Y, batch_size=250, epochs=50, verbose=1, validation_data=(Xtest_low_vec, Ytest))"
   ]
  },
  {
   "cell_type": "code",
   "execution_count": 18,
   "metadata": {},
   "outputs": [
    {
     "name": "stdout",
     "output_type": "stream",
     "text": [
      "Model: \"sequential_1\"\n",
      "_________________________________________________________________\n",
      "Layer (type)                 Output Shape              Param #   \n",
      "=================================================================\n",
      "dense_1 (Dense)              (None, 8)                 808       \n",
      "_________________________________________________________________\n",
      "batch_normalization_1 (Batch (None, 8)                 32        \n",
      "_________________________________________________________________\n",
      "dense_2 (Dense)              (None, 4)                 36        \n",
      "_________________________________________________________________\n",
      "batch_normalization_2 (Batch (None, 4)                 16        \n",
      "_________________________________________________________________\n",
      "dense_3 (Dense)              (None, 1)                 5         \n",
      "=================================================================\n",
      "Total params: 897\n",
      "Trainable params: 873\n",
      "Non-trainable params: 24\n",
      "_________________________________________________________________\n"
     ]
    }
   ],
   "source": [
    "model.summary()"
   ]
  },
  {
   "cell_type": "code",
   "execution_count": 19,
   "metadata": {},
   "outputs": [
    {
     "data": {
      "image/png": "[encoded data removed]",
      "text/plain": [
       "<Figure size 432x288 with 1 Axes>"
      ]
     },
     "metadata": {
      "needs_background": "light"
     },
     "output_type": "display_data"
    }
   ],
   "source": [
    "# 檢查AUC\n",
    "import matplotlib.ticker as ticker;\n",
    "auc_training = history.history['auc'];\n",
    "auc_testing = history.history['val_auc'];\n",
    "plt.plot(auc_training, label='training auc');\n",
    "plt.plot(auc_testing, label='validation auc');\n",
    "plt.gca().get_xaxis().set_major_locator(ticker.MaxNLocator(integer=True));\n",
    "plt.legend();"
   ]
  },
  {
   "cell_type": "code",
   "execution_count": 20,
   "metadata": {},
   "outputs": [],
   "source": [
    "# 畫ROC曲線 的函數\n",
    "def plot_roc(name, labels, predictions, **kwargs):\n",
    "    fp, tp, _ = sklearn.metrics.roc_curve(labels, predictions);\n",
    "    plt.plot(100*fp, 100*tp, label=name, linewidth=2, **kwargs);\n",
    "    plt.xlabel('False positives [%]');\n",
    "    plt.ylabel('True positives [%]');\n",
    "    plt.xlim([-0.5,100.5]);\n",
    "    plt.ylim([-0.5,100.5]);\n",
    "    plt.grid(True);\n",
    "    ax = plt.gca();\n",
    "    ax.set_aspect('equal')"
   ]
  },
  {
   "cell_type": "code",
   "execution_count": 21,
   "metadata": {},
   "outputs": [
    {
     "ename": "IndentationError",
     "evalue": "unexpected indent (<ipython-input-21-6ec8a38ad0b6>, line 2)",
     "output_type": "error",
     "traceback": [
      "\u001b[0;36m  File \u001b[0;32m\"<ipython-input-21-6ec8a38ad0b6>\"\u001b[0;36m, line \u001b[0;32m2\u001b[0m\n\u001b[0;31m    predictions_train = model.call(tf.Variable(Xlow_vec));\u001b[0m\n\u001b[0m    ^\u001b[0m\n\u001b[0;31mIndentationError\u001b[0m\u001b[0;31m:\u001b[0m unexpected indent\n"
     ]
    }
   ],
   "source": [
    "# 預測機率\n",
    "    predictions_train = model.call(tf.Variable(Xlow_vec));\n",
    "predictions_test = model.call(tf.Variable(Xtest_low_vec));\n",
    "\n",
    "# 畫畫\n",
    "plot_roc('train', Y, predictions_train ,color='blue');\n",
    "plot_roc('test', Ytest, predictions_test ,color='red');\n",
    "plt.legend(loc='lower right');"
   ]
  },
  {
   "cell_type": "code",
   "execution_count": null,
   "metadata": {},
   "outputs": [],
   "source": []
  }
 ],
 "metadata": {
  "kernelspec": {
   "display_name": "Python 3",
   "language": "python",
   "name": "python3"
  },
  "language_info": {
   "codemirror_mode": {
    "name": "ipython",
    "version": 3
   },
   "file_extension": ".py",
   "mimetype": "text/x-python",
   "name": "python",
   "nbconvert_exporter": "python",
   "pygments_lexer": "ipython3",
   "version": "3.7.6"
  }
 },
 "nbformat": 4,
 "nbformat_minor": 4
}

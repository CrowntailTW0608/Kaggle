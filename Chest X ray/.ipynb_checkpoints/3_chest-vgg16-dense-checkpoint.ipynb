{
 "cells": [
  {
   "cell_type": "markdown",
   "metadata": {},
   "source": [
    "# For days 2-3: transfer learning using VGG16, model training"
   ]
  },
  {
   "cell_type": "code",
   "execution_count": 1,
   "metadata": {},
   "outputs": [],
   "source": [
    "import os;\n",
    "os.environ['KMP_DUPLICATE_LIB_OK']='True';"
   ]
  },
  {
   "cell_type": "code",
   "execution_count": 2,
   "metadata": {},
   "outputs": [],
   "source": [
    "import tensorflow as tf;\n",
    "import numpy as np;\n",
    "import pandas as pd;\n",
    "import matplotlib.pyplot as plt;"
   ]
  },
  {
   "cell_type": "code",
   "execution_count": 4,
   "metadata": {},
   "outputs": [
    {
     "name": "stdout",
     "output_type": "stream",
     "text": [
      "Found 5216 images belonging to 2 classes.\n",
      "Found 16 images belonging to 2 classes.\n",
      "Found 624 images belonging to 2 classes.\n"
     ]
    }
   ],
   "source": [
    "# load data\n",
    "train_datagen = tf.keras.preprocessing.image.ImageDataGenerator(\n",
    "    rescale=1./255,\n",
    "    width_shift_range=0.05,\n",
    "    height_shift_range=0.15,\n",
    "    rotation_range=10,\n",
    "    zoom_range=0.1,\n",
    ")\n",
    "validation_datagen = tf.keras.preprocessing.image.ImageDataGenerator(rescale=1./255)\n",
    "test_datagen = tf.keras.preprocessing.image.ImageDataGenerator(rescale=1./255)\n",
    "\n",
    "train_generator = train_datagen.flow_from_directory(\n",
    "    '/Users/chensuyun/Dropbox/chest-x-ray/data/train',\n",
    "    target_size=(224,224),\n",
    "    batch_size=100,\n",
    "    class_mode=\"binary\",\n",
    "    #color_mode=\"grayscale\",\n",
    "    shuffle=True,\n",
    ")\n",
    " \n",
    "validation_generator = validation_datagen.flow_from_directory(\n",
    "    '/Users/chensuyun/Dropbox/chest-x-ray/data/val',\n",
    "    target_size=(224,224),\n",
    "    class_mode=\"binary\",\n",
    "    #color_mode=\"grayscale\",\n",
    "    shuffle=False,\n",
    "    batch_size=1,\n",
    ")\n",
    "test_generator = test_datagen.flow_from_directory(\n",
    "    '/Users/chensuyun/Dropbox/chest-x-ray/data/test',\n",
    "    target_size=(224,224),\n",
    "    class_mode=\"binary\",\n",
    "    #color_mode=\"grayscale\",\n",
    "    shuffle=False,\n",
    "    batch_size=1,\n",
    ")\n",
    "# num classes\n",
    "num_classes = 2;"
   ]
  },
  {
   "cell_type": "code",
   "execution_count": 5,
   "metadata": {},
   "outputs": [],
   "source": [
    "# Directory Number\n",
    "i = 1;\n",
    "while(1):\n",
    "    if os.path.isdir('./{}' . format(i)) == False:\n",
    "        break;\n",
    "    else:\n",
    "        i = i + 1;\n",
    "savedir = './{}' . format(i);\n",
    "os.mkdir(savedir);"
   ]
  },
  {
   "cell_type": "code",
   "execution_count": 6,
   "metadata": {
    "scrolled": true
   },
   "outputs": [
    {
     "name": "stdout",
     "output_type": "stream",
     "text": [
      "Train for 53 steps, validate for 624 steps\n",
      "Epoch 1/5\n",
      "53/53 [==============================] - 1871s 35s/step - loss: 4.7856 - binary_crossentropy: 4.8337 - accuracy: 0.8173 - val_loss: 1.0784 - val_binary_crossentropy: 1.0784 - val_accuracy: 0.8846\n",
      "Epoch 2/5\n",
      "53/53 [==============================] - 1864s 35s/step - loss: 1.6003 - binary_crossentropy: 1.6026 - accuracy: 0.8930 - val_loss: 2.1091 - val_binary_crossentropy: 2.1091 - val_accuracy: 0.8285\n",
      "Epoch 3/5\n",
      "53/53 [==============================] - 1897s 36s/step - loss: 1.1877 - binary_crossentropy: 1.2009 - accuracy: 0.9066 - val_loss: 2.9558 - val_binary_crossentropy: 2.9558 - val_accuracy: 0.7708\n",
      "Epoch 4/5\n",
      "53/53 [==============================] - 1884s 36s/step - loss: 0.8937 - binary_crossentropy: 0.8776 - accuracy: 0.9095 - val_loss: 0.7000 - val_binary_crossentropy: 0.7000 - val_accuracy: 0.9054\n",
      "Epoch 5/5\n",
      "53/53 [==============================] - 1875s 35s/step - loss: 0.5983 - binary_crossentropy: 0.5948 - accuracy: 0.9294 - val_loss: 1.1216 - val_binary_crossentropy: 1.1216 - val_accuracy: 0.8830\n",
      "Test loss: 1.121593779681344\n",
      "Test accuracy: 0.88301283\n"
     ]
    }
   ],
   "source": [
    "model = tf.keras.Sequential()\n",
    "pmodel=tf.keras.applications.vgg16.VGG16(weights='imagenet',include_top=False,input_tensor=tf.keras.layers.Input(shape=(224,224,3)));\n",
    "pmodel.trainable = False;\n",
    "model.add(pmodel);\n",
    "model.add(tf.keras.layers.Flatten());\n",
    "model.add(tf.keras.layers.Dense(256));\n",
    "model.add(tf.keras.layers.Dropout(0.5));\n",
    "model.add(tf.keras.layers.Dense(1, activation='sigmoid'))\n",
    "model.compile(loss=tf.keras.losses.binary_crossentropy, optimizer=tf.keras.optimizers.RMSprop(), metrics=[tf.keras.metrics.binary_crossentropy,'accuracy'])\n",
    "\n",
    "# fit\n",
    "history = model.fit(train_generator, epochs=5, validation_data=test_generator)\n",
    "score = model.evaluate(test_generator, verbose=0)\n",
    "print('Test loss:', score[0]);\n",
    "print('Test accuracy:', score[2]);\n",
    "model.save_weights(savedir + '/dense-layer_weights.h5');"
   ]
  },
  {
   "cell_type": "code",
   "execution_count": 7,
   "metadata": {},
   "outputs": [
    {
     "data": {
      "text/plain": [
       "[1.121593779681344, 1.121593, 0.88301283]"
      ]
     },
     "execution_count": 7,
     "metadata": {},
     "output_type": "execute_result"
    }
   ],
   "source": [
    "score # 0: total loss = cross_entropy + regularization, 1: cross-entropy, 2: accuracy"
   ]
  },
  {
   "cell_type": "code",
   "execution_count": 8,
   "metadata": {},
   "outputs": [
    {
     "data": {
      "text/plain": [
       "<Figure size 432x288 with 0 Axes>"
      ]
     },
     "metadata": {},
     "output_type": "display_data"
    }
   ],
   "source": [
    "# save history\n",
    "history_json = pd.DataFrame(history.history);\n",
    "with open(savedir + '/history.json', 'w') as f:\n",
    "    history_json.to_json(f);\n",
    "\n",
    "# Plot training & validation accuracy values\n",
    "plt.plot(history.history['accuracy'])\n",
    "plt.plot(history.history['val_accuracy'])\n",
    "plt.title('Model accuracy')\n",
    "plt.ylabel('Accuracy')\n",
    "plt.xlabel('Epoch')\n",
    "plt.legend(['Train', 'Test'], loc='upper left')\n",
    "plt.savefig(savedir + '/accuracy.png');\n",
    "plt.clf();\n",
    "\n",
    "# Plot training & validation loss values\n",
    "plt.plot(history.history['loss'])\n",
    "plt.plot(history.history['val_loss'])\n",
    "plt.title('Model loss')\n",
    "plt.ylabel('Loss')\n",
    "plt.xlabel('Epoch')\n",
    "plt.legend(['Train', 'Test'], loc='upper left')\n",
    "plt.savefig(savedir + '/loss.png');\n",
    "plt.clf();\n",
    "\n",
    "# Plot training & validation loss without regularization term\n",
    "plt.plot(history.history['binary_crossentropy'])\n",
    "plt.plot(history.history['val_binary_crossentropy'])\n",
    "plt.title('Model loss without regularization term')\n",
    "plt.ylabel('Loss without Regularization Term')\n",
    "plt.xlabel('Epoch')\n",
    "plt.legend(['Train', 'Test'], loc='upper left')\n",
    "plt.savefig(savedir + '/loss-without-regularization.png');\n",
    "plt.clf();\n",
    "\n",
    "# Plot reconstruction error\n",
    "plt.plot(np.array(history.history['loss'])-np.array(history.history['binary_crossentropy']))\n",
    "plt.plot(np.array(history.history['val_loss'])-np.array(history.history['val_binary_crossentropy']))\n",
    "plt.title('Penalty based on reconstruction error')\n",
    "plt.ylabel('Penality')\n",
    "plt.xlabel('Epoch')\n",
    "plt.legend(['Train', 'Test'], loc='upper left')\n",
    "plt.savefig(savedir + '/regularization.png');\n",
    "plt.clf();\n"
   ]
  },
  {
   "cell_type": "code",
   "execution_count": 9,
   "metadata": {},
   "outputs": [
    {
     "name": "stdout",
     "output_type": "stream",
     "text": [
      "Model: \"sequential\"\n",
      "_________________________________________________________________\n",
      "Layer (type)                 Output Shape              Param #   \n",
      "=================================================================\n",
      "vgg16 (Model)                (None, 7, 7, 512)         14714688  \n",
      "_________________________________________________________________\n",
      "flatten (Flatten)            (None, 25088)             0         \n",
      "_________________________________________________________________\n",
      "dense (Dense)                (None, 256)               6422784   \n",
      "_________________________________________________________________\n",
      "dropout (Dropout)            (None, 256)               0         \n",
      "_________________________________________________________________\n",
      "dense_1 (Dense)              (None, 1)                 257       \n",
      "=================================================================\n",
      "Total params: 21,137,729\n",
      "Trainable params: 6,423,041\n",
      "Non-trainable params: 14,714,688\n",
      "_________________________________________________________________\n"
     ]
    }
   ],
   "source": [
    "model.summary();"
   ]
  },
  {
   "cell_type": "code",
   "execution_count": null,
   "metadata": {},
   "outputs": [],
   "source": []
  }
 ],
 "metadata": {
  "kernelspec": {
   "display_name": "Python 3",
   "language": "python",
   "name": "python3"
  },
  "language_info": {
   "codemirror_mode": {
    "name": "ipython",
    "version": 3
   },
   "file_extension": ".py",
   "mimetype": "text/x-python",
   "name": "python",
   "nbconvert_exporter": "python",
   "pygments_lexer": "ipython3",
   "version": "3.8.3"
  }
 },
 "nbformat": 4,
 "nbformat_minor": 2
}

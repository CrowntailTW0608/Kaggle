{
 "cells": [
  {
   "cell_type": "markdown",
   "metadata": {},
   "source": [
    "# For days 2 & 4: CNN"
   ]
  },
  {
   "cell_type": "markdown",
   "metadata": {},
   "source": [
    "# Importing the Libraries"
   ]
  },
  {
   "cell_type": "code",
   "execution_count": 1,
   "metadata": {},
   "outputs": [],
   "source": [
    "import os\n",
    "import pandas as pd\n",
    "import numpy as np\n",
    "import matplotlib.pyplot as plt\n",
    "from matplotlib.image import imread\n",
    "from tensorflow.keras.preprocessing.image import ImageDataGenerator\n",
    "from tensorflow.keras.models import Sequential\n",
    "from tensorflow.keras.layers import Activation, Flatten, Dense, Conv2D, MaxPooling2D, BatchNormalization\n",
    "from sklearn.metrics import classification_report,confusion_matrix\n",
    "from tensorflow.keras.preprocessing import image"
   ]
  },
  {
   "cell_type": "markdown",
   "metadata": {},
   "source": [
    "# Data Source:\n",
    "\n",
    "The dataset contains 3 main folders - test - train - val\n",
    "\n",
    "Each folder contains 2 categories - NORMAL - PNEUMONIA\n",
    "\n",
    "The PNEUMONIA comes from 2 different reasons - virus & bacteria\n",
    "\n",
    "And a total of 5856 images.\n",
    "\n",
    "We can download the data from the kaggle Website: https://www.kaggle.com/paultimothymooney/chest-xray-pneumonia\n"
   ]
  },
  {
   "cell_type": "markdown",
   "metadata": {},
   "source": [
    "#### The path of  the data"
   ]
  },
  {
   "cell_type": "code",
   "execution_count": 2,
   "metadata": {},
   "outputs": [],
   "source": [
    "# my_data_dir = '/Users/kai-derwang/Desktop/X-ray/chest_xray'\n",
    "my_data_dir = '/users/syhuangmac/Dropbox/chest-x-ray/data/'"
   ]
  },
  {
   "cell_type": "code",
   "execution_count": 3,
   "metadata": {},
   "outputs": [
    {
     "data": {
      "text/plain": [
       "['.DS_Store', 'test', 'train', 'val']"
      ]
     },
     "execution_count": 3,
     "metadata": {},
     "output_type": "execute_result"
    }
   ],
   "source": [
    "os.listdir(my_data_dir)"
   ]
  },
  {
   "cell_type": "code",
   "execution_count": 4,
   "metadata": {},
   "outputs": [],
   "source": [
    "train_path = my_data_dir + '/train'\n",
    "test_path = my_data_dir + '/test'\n",
    "val_path = my_data_dir + '/val'"
   ]
  },
  {
   "cell_type": "code",
   "execution_count": 5,
   "metadata": {},
   "outputs": [
    {
     "data": {
      "text/plain": [
       "['PNEUMONIA', 'NORMAL']"
      ]
     },
     "execution_count": 5,
     "metadata": {},
     "output_type": "execute_result"
    }
   ],
   "source": [
    "os.listdir(train_path)"
   ]
  },
  {
   "cell_type": "code",
   "execution_count": 6,
   "metadata": {},
   "outputs": [
    {
     "data": {
      "text/plain": [
       "['PNEUMONIA', 'NORMAL']"
      ]
     },
     "execution_count": 6,
     "metadata": {},
     "output_type": "execute_result"
    }
   ],
   "source": [
    "os.listdir(test_path)"
   ]
  },
  {
   "cell_type": "code",
   "execution_count": 7,
   "metadata": {},
   "outputs": [
    {
     "data": {
      "text/plain": [
       "['PNEUMONIA', 'NORMAL']"
      ]
     },
     "execution_count": 7,
     "metadata": {},
     "output_type": "execute_result"
    }
   ],
   "source": [
    "os.listdir(val_path)"
   ]
  },
  {
   "cell_type": "markdown",
   "metadata": {},
   "source": [
    "#### Visualize single image"
   ]
  },
  {
   "cell_type": "code",
   "execution_count": 8,
   "metadata": {},
   "outputs": [
    {
     "data": {
      "text/plain": [
       "'NORMAL2-IM-0927-0001.jpeg'"
      ]
     },
     "execution_count": 8,
     "metadata": {},
     "output_type": "execute_result"
    }
   ],
   "source": [
    "os.listdir(train_path + '/NORMAL')[0]"
   ]
  },
  {
   "cell_type": "code",
   "execution_count": 9,
   "metadata": {},
   "outputs": [],
   "source": [
    "normal_example = train_path + '/NORMAL' + '/NORMAL2-IM-0927-0001.jpeg'"
   ]
  },
  {
   "cell_type": "code",
   "execution_count": 10,
   "metadata": {},
   "outputs": [
    {
     "data": {
      "text/plain": [
       "array([[ 0, 23, 24, ...,  0,  0,  0],\n",
       "       [ 0,  5, 23, ...,  0,  0,  0],\n",
       "       [ 1,  0, 26, ...,  0,  0,  0],\n",
       "       ...,\n",
       "       [ 0,  0,  0, ...,  0,  0,  0],\n",
       "       [ 0,  0,  0, ...,  0,  0,  0],\n",
       "       [ 0,  0,  0, ...,  0,  0,  0]], dtype=uint8)"
      ]
     },
     "execution_count": 10,
     "metadata": {},
     "output_type": "execute_result"
    }
   ],
   "source": [
    "normal_example = imread(normal_example)\n",
    "normal_example"
   ]
  },
  {
   "cell_type": "code",
   "execution_count": 11,
   "metadata": {},
   "outputs": [
    {
     "data": {
      "text/plain": [
       "255"
      ]
     },
     "execution_count": 11,
     "metadata": {},
     "output_type": "execute_result"
    }
   ],
   "source": [
    "normal_example.max()"
   ]
  },
  {
   "cell_type": "code",
   "execution_count": 12,
   "metadata": {},
   "outputs": [
    {
     "data": {
      "text/plain": [
       "0"
      ]
     },
     "execution_count": 12,
     "metadata": {},
     "output_type": "execute_result"
    }
   ],
   "source": [
    "normal_example.min()"
   ]
  },
  {
   "cell_type": "code",
   "execution_count": 13,
   "metadata": {},
   "outputs": [
    {
     "data": {
      "text/plain": [
       "(2234, 2359)"
      ]
     },
     "execution_count": 13,
     "metadata": {},
     "output_type": "execute_result"
    }
   ],
   "source": [
    "# height, width\n",
    "normal_example.shape "
   ]
  },
  {
   "cell_type": "code",
   "execution_count": 14,
   "metadata": {},
   "outputs": [
    {
     "data": {
      "text/plain": [
       "<matplotlib.image.AxesImage at 0x7f91c11b5410>"
      ]
     },
     "execution_count": 14,
     "metadata": {},
     "output_type": "execute_result"
    },
    {
     "data": {
      "image/png": "[encoded data removed]",
      "text/plain": [
       "<Figure size 432x288 with 1 Axes>"
      ]
     },
     "metadata": {
      "needs_background": "light"
     },
     "output_type": "display_data"
    }
   ],
   "source": [
    "plt.imshow(normal_example,cmap='gray')"
   ]
  },
  {
   "cell_type": "code",
   "execution_count": 15,
   "metadata": {},
   "outputs": [
    {
     "data": {
      "text/plain": [
       "'person437_bacteria_1887.jpeg'"
      ]
     },
     "execution_count": 15,
     "metadata": {},
     "output_type": "execute_result"
    }
   ],
   "source": [
    "os.listdir(train_path + '/PNEUMONIA')[30]"
   ]
  },
  {
   "cell_type": "code",
   "execution_count": 16,
   "metadata": {},
   "outputs": [],
   "source": [
    "abnormal_example = train_path + '/PNEUMONIA' + '/person437_bacteria_1887.jpeg'"
   ]
  },
  {
   "cell_type": "code",
   "execution_count": 17,
   "metadata": {},
   "outputs": [
    {
     "data": {
      "text/plain": [
       "<matplotlib.image.AxesImage at 0x7f91e1ea7950>"
      ]
     },
     "execution_count": 17,
     "metadata": {},
     "output_type": "execute_result"
    },
    {
     "data": {
      "image/png": "[encoded data removed]",
      "text/plain": [
       "<Figure size 432x288 with 1 Axes>"
      ]
     },
     "metadata": {
      "needs_background": "light"
     },
     "output_type": "display_data"
    }
   ],
   "source": [
    "plt.imshow(imread(abnormal_example),cmap='gray') "
   ]
  },
  {
   "cell_type": "markdown",
   "metadata": {},
   "source": [
    "#### Check how many images are there"
   ]
  },
  {
   "cell_type": "code",
   "execution_count": 18,
   "metadata": {},
   "outputs": [
    {
     "data": {
      "text/plain": [
       "1341"
      ]
     },
     "execution_count": 18,
     "metadata": {},
     "output_type": "execute_result"
    }
   ],
   "source": [
    "len(os.listdir(train_path+'/NORMAL'))"
   ]
  },
  {
   "cell_type": "code",
   "execution_count": 19,
   "metadata": {},
   "outputs": [
    {
     "data": {
      "text/plain": [
       "3875"
      ]
     },
     "execution_count": 19,
     "metadata": {},
     "output_type": "execute_result"
    }
   ],
   "source": [
    "len(os.listdir(train_path+'/PNEUMONIA'))"
   ]
  },
  {
   "cell_type": "code",
   "execution_count": 20,
   "metadata": {},
   "outputs": [
    {
     "data": {
      "text/plain": [
       "234"
      ]
     },
     "execution_count": 20,
     "metadata": {},
     "output_type": "execute_result"
    }
   ],
   "source": [
    "len(os.listdir(test_path+'/NORMAL'))"
   ]
  },
  {
   "cell_type": "code",
   "execution_count": 21,
   "metadata": {},
   "outputs": [
    {
     "data": {
      "text/plain": [
       "390"
      ]
     },
     "execution_count": 21,
     "metadata": {},
     "output_type": "execute_result"
    }
   ],
   "source": [
    "len(os.listdir(test_path+'/PNEUMONIA'))"
   ]
  },
  {
   "cell_type": "code",
   "execution_count": 22,
   "metadata": {},
   "outputs": [
    {
     "data": {
      "text/plain": [
       "8"
      ]
     },
     "execution_count": 22,
     "metadata": {},
     "output_type": "execute_result"
    }
   ],
   "source": [
    "len(os.listdir(val_path+'/NORMAL'))"
   ]
  },
  {
   "cell_type": "code",
   "execution_count": 23,
   "metadata": {},
   "outputs": [
    {
     "data": {
      "text/plain": [
       "8"
      ]
     },
     "execution_count": 23,
     "metadata": {},
     "output_type": "execute_result"
    }
   ],
   "source": [
    "len(os.listdir(val_path+'/PNEUMONIA'))"
   ]
  },
  {
   "cell_type": "markdown",
   "metadata": {},
   "source": [
    "# Data Preprocessing"
   ]
  },
  {
   "cell_type": "code",
   "execution_count": 24,
   "metadata": {},
   "outputs": [],
   "source": [
    "train_gen= ImageDataGenerator(rescale=1.0/255.0)\n",
    "\n",
    "val_gen = ImageDataGenerator(rescale=1.0/255.0)\n",
    "                                   \n",
    "test_gen = ImageDataGenerator(rescale=1.0/255.0)\n",
    "\n"
   ]
  },
  {
   "cell_type": "markdown",
   "metadata": {},
   "source": [
    "# Building the Model"
   ]
  },
  {
   "cell_type": "code",
   "execution_count": 25,
   "metadata": {},
   "outputs": [],
   "source": [
    "model = Sequential()\n",
    "\n",
    "# 1st Block \n",
    "model.add(Conv2D(filters=32, kernel_size=(3,3), strides=(3,3) ,input_shape=(224,224,1), activation='relu'))\n",
    "model.add(MaxPooling2D(pool_size=(2, 2)))\n",
    "\n",
    "# 2nd Block\n",
    "model.add(Conv2D(filters=32, kernel_size=(2,2),strides=(2,2), activation='relu'))\n",
    "model.add(BatchNormalization())\n",
    "model.add(MaxPooling2D(pool_size=(2, 2)))\n",
    "\n",
    "\n",
    "# Flatten and Fully Connected Layer\n",
    "model.add(Flatten())\n",
    "model.add(Dense(100))\n",
    "model.add(Activation('relu'))\n",
    "\n",
    "\n",
    "# Sigmoid Classifier\n",
    "model.add(Dense(1))\n",
    "model.add(Activation('sigmoid'))\n",
    "\n",
    "\n",
    "# compile model \n",
    "model.compile(optimizer='adam', \n",
    "              loss='binary_crossentropy', \n",
    "              metrics=['accuracy'])"
   ]
  },
  {
   "cell_type": "code",
   "execution_count": 26,
   "metadata": {},
   "outputs": [
    {
     "name": "stdout",
     "output_type": "stream",
     "text": [
      "Model: \"sequential\"\n",
      "_________________________________________________________________\n",
      "Layer (type)                 Output Shape              Param #   \n",
      "=================================================================\n",
      "conv2d (Conv2D)              (None, 74, 74, 32)        320       \n",
      "_________________________________________________________________\n",
      "max_pooling2d (MaxPooling2D) (None, 37, 37, 32)        0         \n",
      "_________________________________________________________________\n",
      "conv2d_1 (Conv2D)            (None, 18, 18, 32)        4128      \n",
      "_________________________________________________________________\n",
      "batch_normalization (BatchNo (None, 18, 18, 32)        128       \n",
      "_________________________________________________________________\n",
      "max_pooling2d_1 (MaxPooling2 (None, 9, 9, 32)          0         \n",
      "_________________________________________________________________\n",
      "flatten (Flatten)            (None, 2592)              0         \n",
      "_________________________________________________________________\n",
      "dense (Dense)                (None, 100)               259300    \n",
      "_________________________________________________________________\n",
      "activation (Activation)      (None, 100)               0         \n",
      "_________________________________________________________________\n",
      "dense_1 (Dense)              (None, 1)                 101       \n",
      "_________________________________________________________________\n",
      "activation_1 (Activation)    (None, 1)                 0         \n",
      "=================================================================\n",
      "Total params: 263,977\n",
      "Trainable params: 263,913\n",
      "Non-trainable params: 64\n",
      "_________________________________________________________________\n"
     ]
    }
   ],
   "source": [
    "model.summary()"
   ]
  },
  {
   "cell_type": "markdown",
   "metadata": {},
   "source": [
    "# Training the Model"
   ]
  },
  {
   "cell_type": "code",
   "execution_count": 27,
   "metadata": {},
   "outputs": [
    {
     "name": "stdout",
     "output_type": "stream",
     "text": [
      "Found 5216 images belonging to 2 classes.\n",
      "Found 16 images belonging to 2 classes.\n",
      "Found 624 images belonging to 2 classes.\n"
     ]
    }
   ],
   "source": [
    "batch_size=250\n",
    "\n",
    "train_img_gen = train_gen.flow_from_directory(train_path,classes =('NORMAL','PNEUMONIA'),class_mode='binary',batch_size=batch_size, target_size=(224, 224), color_mode='grayscale')\n",
    "valid_img_gen = val_gen.flow_from_directory(val_path,classes =('NORMAL','PNEUMONIA'),class_mode='binary',batch_size=batch_size, target_size=(224, 224),color_mode='grayscale')\n",
    "test_img_gen = test_gen.flow_from_directory(test_path,classes =('NORMAL','PNEUMONIA'),class_mode='binary',batch_size=batch_size, target_size=(224, 224),color_mode='grayscale')\n"
   ]
  },
  {
   "cell_type": "code",
   "execution_count": 28,
   "metadata": {},
   "outputs": [
    {
     "data": {
      "text/plain": [
       "{'NORMAL': 0, 'PNEUMONIA': 1}"
      ]
     },
     "execution_count": 28,
     "metadata": {},
     "output_type": "execute_result"
    }
   ],
   "source": [
    "train_img_gen.class_indices"
   ]
  },
  {
   "cell_type": "code",
   "execution_count": 29,
   "metadata": {
    "scrolled": false
   },
   "outputs": [
    {
     "name": "stdout",
     "output_type": "stream",
     "text": [
      "Epoch 1/10\n",
      "21/21 [==============================] - 44s 2s/step - loss: 0.3260 - accuracy: 0.8639 - val_loss: 0.6172 - val_accuracy: 0.6250\n",
      "Epoch 2/10\n",
      "21/21 [==============================] - 44s 2s/step - loss: 0.1134 - accuracy: 0.9582 - val_loss: 0.5972 - val_accuracy: 0.6282\n",
      "Epoch 3/10\n",
      "21/21 [==============================] - 43s 2s/step - loss: 0.0739 - accuracy: 0.9737 - val_loss: 0.6031 - val_accuracy: 0.6266\n",
      "Epoch 4/10\n",
      "21/21 [==============================] - 43s 2s/step - loss: 0.0548 - accuracy: 0.9810 - val_loss: 0.5744 - val_accuracy: 0.6442\n",
      "Epoch 5/10\n",
      "21/21 [==============================] - 43s 2s/step - loss: 0.0442 - accuracy: 0.9843 - val_loss: 0.5767 - val_accuracy: 0.6378\n",
      "Epoch 6/10\n",
      "21/21 [==============================] - 43s 2s/step - loss: 0.0384 - accuracy: 0.9864 - val_loss: 0.5747 - val_accuracy: 0.6378\n",
      "Epoch 7/10\n",
      "21/21 [==============================] - 43s 2s/step - loss: 0.0279 - accuracy: 0.9912 - val_loss: 0.5216 - val_accuracy: 0.7003\n",
      "Epoch 8/10\n",
      "21/21 [==============================] - 43s 2s/step - loss: 0.0205 - accuracy: 0.9942 - val_loss: 0.5396 - val_accuracy: 0.6731\n",
      "Epoch 9/10\n",
      "21/21 [==============================] - 45s 2s/step - loss: 0.0166 - accuracy: 0.9952 - val_loss: 0.5981 - val_accuracy: 0.6490\n",
      "Epoch 10/10\n",
      "21/21 [==============================] - 43s 2s/step - loss: 0.0182 - accuracy: 0.9946 - val_loss: 0.4651 - val_accuracy: 0.7548\n"
     ]
    },
    {
     "data": {
      "text/plain": [
       "<tensorflow.python.keras.callbacks.History at 0x7f91e21c4a50>"
      ]
     },
     "execution_count": 29,
     "metadata": {},
     "output_type": "execute_result"
    }
   ],
   "source": [
    "epochs=10\n",
    "\n",
    "model.fit_generator(train_img_gen,\n",
    "                    validation_data=test_img_gen, \n",
    "                    epochs=epochs)"
   ]
  },
  {
   "cell_type": "code",
   "execution_count": 30,
   "metadata": {},
   "outputs": [],
   "source": [
    "# model.layers[0].get_weights()[0][:,:,:,0]"
   ]
  },
  {
   "cell_type": "code",
   "execution_count": 31,
   "metadata": {},
   "outputs": [],
   "source": [
    "model.save('cnn_model.h5')"
   ]
  },
  {
   "cell_type": "markdown",
   "metadata": {},
   "source": [
    "# Evaluating the Model"
   ]
  },
  {
   "cell_type": "code",
   "execution_count": 32,
   "metadata": {},
   "outputs": [],
   "source": [
    "losses = pd.DataFrame(model.history.history)"
   ]
  },
  {
   "cell_type": "code",
   "execution_count": 33,
   "metadata": {},
   "outputs": [
    {
     "data": {
      "text/plain": [
       "<matplotlib.axes._subplots.AxesSubplot at 0x7f91c1241510>"
      ]
     },
     "execution_count": 33,
     "metadata": {},
     "output_type": "execute_result"
    },
    {
     "data": {
      "image/png": "[encoded data removed]",
      "text/plain": [
       "<Figure size 432x288 with 1 Axes>"
      ]
     },
     "metadata": {
      "needs_background": "light"
     },
     "output_type": "display_data"
    }
   ],
   "source": [
    "losses[['loss','val_loss']].plot()"
   ]
  },
  {
   "cell_type": "code",
   "execution_count": 34,
   "metadata": {},
   "outputs": [
    {
     "data": {
      "text/plain": [
       "['loss', 'accuracy']"
      ]
     },
     "execution_count": 34,
     "metadata": {},
     "output_type": "execute_result"
    }
   ],
   "source": [
    "model.metrics_names"
   ]
  },
  {
   "cell_type": "code",
   "execution_count": 35,
   "metadata": {},
   "outputs": [],
   "source": [
    "pred_probabilities = model.predict_generator(test_img_gen)"
   ]
  },
  {
   "cell_type": "code",
   "execution_count": 36,
   "metadata": {},
   "outputs": [
    {
     "data": {
      "text/plain": [
       "array([[0.8583114 ],\n",
       "       [0.9004897 ],\n",
       "       [0.7538073 ],\n",
       "       [0.91739786],\n",
       "       [0.86636126],\n",
       "       [0.84741676],\n",
       "       [0.61057436],\n",
       "       [0.8228513 ],\n",
       "       [0.83600163],\n",
       "       [0.82468   ],\n",
       "       [0.9141918 ],\n",
       "       [0.8035801 ],\n",
       "       [0.7039109 ],\n",
       "       [0.7279045 ],\n",
       "       [0.4899785 ],\n",
       "       [0.79480064],\n",
       "       [0.90381   ],\n",
       "       [0.5161234 ],\n",
       "       [0.6407871 ],\n",
       "       [0.4008118 ],\n",
       "       [0.35250723],\n",
       "       [0.8927615 ],\n",
       "       [0.60410005],\n",
       "       [0.8902461 ],\n",
       "       [0.9413636 ],\n",
       "       [0.9012368 ],\n",
       "       [0.8557712 ],\n",
       "       [0.49692127],\n",
       "       [0.9278599 ],\n",
       "       [0.45134073],\n",
       "       [0.46216676],\n",
       "       [0.90112877],\n",
       "       [0.89390355],\n",
       "       [0.58500755],\n",
       "       [0.8915528 ],\n",
       "       [0.54704857],\n",
       "       [0.29400742],\n",
       "       [0.4143555 ],\n",
       "       [0.6587347 ],\n",
       "       [0.84060633],\n",
       "       [0.5312518 ],\n",
       "       [0.8349373 ],\n",
       "       [0.8590877 ],\n",
       "       [0.4115607 ],\n",
       "       [0.78707373],\n",
       "       [0.83544385],\n",
       "       [0.700399  ],\n",
       "       [0.8865665 ],\n",
       "       [0.9590248 ],\n",
       "       [0.87369514],\n",
       "       [0.9059266 ],\n",
       "       [0.7615174 ],\n",
       "       [0.20434928],\n",
       "       [0.28843278],\n",
       "       [0.524654  ],\n",
       "       [0.7341254 ],\n",
       "       [0.89527225],\n",
       "       [0.88888377],\n",
       "       [0.9046091 ],\n",
       "       [0.7819675 ],\n",
       "       [0.8521532 ],\n",
       "       [0.3420406 ],\n",
       "       [0.8028512 ],\n",
       "       [0.6445919 ],\n",
       "       [0.17407963],\n",
       "       [0.8601216 ],\n",
       "       [0.83972335],\n",
       "       [0.71137977],\n",
       "       [0.55516934],\n",
       "       [0.8572313 ],\n",
       "       [0.53564405],\n",
       "       [0.20145127],\n",
       "       [0.5098005 ],\n",
       "       [0.6587347 ],\n",
       "       [0.43068832],\n",
       "       [0.5716487 ],\n",
       "       [0.8807056 ],\n",
       "       [0.7891912 ],\n",
       "       [0.8491566 ],\n",
       "       [0.9221054 ],\n",
       "       [0.94862854],\n",
       "       [0.49499273],\n",
       "       [0.8633585 ],\n",
       "       [0.82890296],\n",
       "       [0.5807683 ],\n",
       "       [0.80028546],\n",
       "       [0.9155768 ],\n",
       "       [0.9257997 ],\n",
       "       [0.95418704],\n",
       "       [0.6043964 ],\n",
       "       [0.9480946 ],\n",
       "       [0.8651012 ],\n",
       "       [0.92244387],\n",
       "       [0.6761638 ],\n",
       "       [0.7425701 ],\n",
       "       [0.3906136 ],\n",
       "       [0.610927  ],\n",
       "       [0.44837117],\n",
       "       [0.43796924],\n",
       "       [0.9668857 ],\n",
       "       [0.93504775],\n",
       "       [0.77371943],\n",
       "       [0.8786778 ],\n",
       "       [0.91892254],\n",
       "       [0.62558466],\n",
       "       [0.829001  ],\n",
       "       [0.54240024],\n",
       "       [0.42681313],\n",
       "       [0.9384222 ],\n",
       "       [0.43172145],\n",
       "       [0.8206594 ],\n",
       "       [0.75372064],\n",
       "       [0.43244836],\n",
       "       [0.85190845],\n",
       "       [0.839503  ],\n",
       "       [0.7251556 ],\n",
       "       [0.8309573 ],\n",
       "       [0.91288435],\n",
       "       [0.91972005],\n",
       "       [0.6572349 ],\n",
       "       [0.45294806],\n",
       "       [0.7133835 ],\n",
       "       [0.91114086],\n",
       "       [0.72662884],\n",
       "       [0.9213745 ],\n",
       "       [0.7235949 ],\n",
       "       [0.8169724 ],\n",
       "       [0.66209406],\n",
       "       [0.93705606],\n",
       "       [0.7876595 ],\n",
       "       [0.7632421 ],\n",
       "       [0.8431629 ],\n",
       "       [0.8724364 ],\n",
       "       [0.8896874 ],\n",
       "       [0.794796  ],\n",
       "       [0.68327725],\n",
       "       [0.8698251 ],\n",
       "       [0.7360376 ],\n",
       "       [0.9056264 ],\n",
       "       [0.80273235],\n",
       "       [0.9476457 ],\n",
       "       [0.85972977],\n",
       "       [0.859447  ],\n",
       "       [0.62421083],\n",
       "       [0.8250535 ],\n",
       "       [0.8276925 ],\n",
       "       [0.52864075],\n",
       "       [0.839587  ],\n",
       "       [0.89050347],\n",
       "       [0.84114575],\n",
       "       [0.778417  ],\n",
       "       [0.9156438 ],\n",
       "       [0.37666348],\n",
       "       [0.6076035 ],\n",
       "       [0.8536788 ],\n",
       "       [0.93646955],\n",
       "       [0.82442397],\n",
       "       [0.6474479 ],\n",
       "       [0.89300346],\n",
       "       [0.7434392 ],\n",
       "       [0.7356422 ],\n",
       "       [0.87028694],\n",
       "       [0.77367187],\n",
       "       [0.85767996],\n",
       "       [0.8187654 ],\n",
       "       [0.6166973 ],\n",
       "       [0.6686704 ],\n",
       "       [0.74703413],\n",
       "       [0.82609516],\n",
       "       [0.9418131 ],\n",
       "       [0.7185066 ],\n",
       "       [0.79627013],\n",
       "       [0.92894596],\n",
       "       [0.78772306],\n",
       "       [0.54708797],\n",
       "       [0.8713217 ],\n",
       "       [0.5319128 ],\n",
       "       [0.5474592 ],\n",
       "       [0.6091951 ],\n",
       "       [0.3144864 ],\n",
       "       [0.8802639 ],\n",
       "       [0.6296226 ],\n",
       "       [0.69855535],\n",
       "       [0.53352237],\n",
       "       [0.81127596],\n",
       "       [0.8278495 ],\n",
       "       [0.87718713],\n",
       "       [0.8521631 ],\n",
       "       [0.85350263],\n",
       "       [0.89977765],\n",
       "       [0.8492118 ],\n",
       "       [0.8709698 ],\n",
       "       [0.6190861 ],\n",
       "       [0.88751817],\n",
       "       [0.66856617],\n",
       "       [0.528801  ],\n",
       "       [0.8987587 ],\n",
       "       [0.8970463 ],\n",
       "       [0.3852158 ],\n",
       "       [0.85327196],\n",
       "       [0.5554567 ],\n",
       "       [0.87372136],\n",
       "       [0.86480284],\n",
       "       [0.5946306 ],\n",
       "       [0.48861045],\n",
       "       [0.62963045],\n",
       "       [0.89377314],\n",
       "       [0.9361556 ],\n",
       "       [0.20285273],\n",
       "       [0.57646984],\n",
       "       [0.9176276 ],\n",
       "       [0.9199425 ],\n",
       "       [0.70517623],\n",
       "       [0.47869605],\n",
       "       [0.9158907 ],\n",
       "       [0.6161292 ],\n",
       "       [0.9089391 ],\n",
       "       [0.60831344],\n",
       "       [0.7540247 ],\n",
       "       [0.68517625],\n",
       "       [0.7503501 ],\n",
       "       [0.79388416],\n",
       "       [0.5995038 ],\n",
       "       [0.9110285 ],\n",
       "       [0.6289894 ],\n",
       "       [0.92154574],\n",
       "       [0.8850218 ],\n",
       "       [0.9241421 ],\n",
       "       [0.29481906],\n",
       "       [0.8362818 ],\n",
       "       [0.97187257],\n",
       "       [0.525384  ],\n",
       "       [0.8854266 ],\n",
       "       [0.9033906 ],\n",
       "       [0.87047696],\n",
       "       [0.8868053 ],\n",
       "       [0.88967466],\n",
       "       [0.9373098 ],\n",
       "       [0.9220177 ],\n",
       "       [0.856179  ],\n",
       "       [0.79390895],\n",
       "       [0.72073823],\n",
       "       [0.847669  ],\n",
       "       [0.8915528 ],\n",
       "       [0.23632318],\n",
       "       [0.8315827 ],\n",
       "       [0.8658019 ],\n",
       "       [0.7916913 ],\n",
       "       [0.72916645],\n",
       "       [0.34340426],\n",
       "       [0.82676286],\n",
       "       [0.84807307],\n",
       "       [0.61163104],\n",
       "       [0.85586786],\n",
       "       [0.8461362 ],\n",
       "       [0.72937906],\n",
       "       [0.6962816 ],\n",
       "       [0.5728854 ],\n",
       "       [0.7610498 ],\n",
       "       [0.907796  ],\n",
       "       [0.9130292 ],\n",
       "       [0.84739506],\n",
       "       [0.87818253],\n",
       "       [0.7477041 ],\n",
       "       [0.32929856],\n",
       "       [0.8510205 ],\n",
       "       [0.3605683 ],\n",
       "       [0.6270188 ],\n",
       "       [0.6778383 ],\n",
       "       [0.8906578 ],\n",
       "       [0.5998529 ],\n",
       "       [0.86295843],\n",
       "       [0.5447038 ],\n",
       "       [0.86603034],\n",
       "       [0.77876115],\n",
       "       [0.770573  ],\n",
       "       [0.61774933],\n",
       "       [0.37688234],\n",
       "       [0.85077417],\n",
       "       [0.90547305],\n",
       "       [0.9010625 ],\n",
       "       [0.5249301 ],\n",
       "       [0.76527166],\n",
       "       [0.82090175],\n",
       "       [0.5786333 ],\n",
       "       [0.76529235],\n",
       "       [0.6458096 ],\n",
       "       [0.83558804],\n",
       "       [0.8775557 ],\n",
       "       [0.86980057],\n",
       "       [0.7516107 ],\n",
       "       [0.8793473 ],\n",
       "       [0.25157037],\n",
       "       [0.7681338 ],\n",
       "       [0.73291945],\n",
       "       [0.6195728 ],\n",
       "       [0.9200448 ],\n",
       "       [0.9035696 ],\n",
       "       [0.8702471 ],\n",
       "       [0.9000232 ],\n",
       "       [0.85785496],\n",
       "       [0.9472401 ],\n",
       "       [0.5338744 ],\n",
       "       [0.8535638 ],\n",
       "       [0.90205836],\n",
       "       [0.55251634],\n",
       "       [0.94835424],\n",
       "       [0.7149113 ],\n",
       "       [0.83465576],\n",
       "       [0.35681182],\n",
       "       [0.5532507 ],\n",
       "       [0.943117  ],\n",
       "       [0.9141362 ],\n",
       "       [0.86560464],\n",
       "       [0.80989486],\n",
       "       [0.24962157],\n",
       "       [0.49675894],\n",
       "       [0.5021364 ],\n",
       "       [0.8409531 ],\n",
       "       [0.8690017 ],\n",
       "       [0.8703265 ],\n",
       "       [0.6522017 ],\n",
       "       [0.77398616],\n",
       "       [0.82945794],\n",
       "       [0.8518839 ],\n",
       "       [0.94638205],\n",
       "       [0.5658467 ],\n",
       "       [0.32864103],\n",
       "       [0.49130225],\n",
       "       [0.9100213 ],\n",
       "       [0.83105284],\n",
       "       [0.6750466 ],\n",
       "       [0.91281396],\n",
       "       [0.8639076 ],\n",
       "       [0.7975279 ],\n",
       "       [0.8652719 ],\n",
       "       [0.7940926 ],\n",
       "       [0.77532375],\n",
       "       [0.89706683],\n",
       "       [0.41384387],\n",
       "       [0.9102953 ],\n",
       "       [0.81066597],\n",
       "       [0.90899944],\n",
       "       [0.9190167 ],\n",
       "       [0.47102082],\n",
       "       [0.8693025 ],\n",
       "       [0.911531  ],\n",
       "       [0.97645855],\n",
       "       [0.8121846 ],\n",
       "       [0.48304698],\n",
       "       [0.82859087],\n",
       "       [0.80225176],\n",
       "       [0.7710091 ],\n",
       "       [0.8557421 ],\n",
       "       [0.75810987],\n",
       "       [0.7062745 ],\n",
       "       [0.7775166 ],\n",
       "       [0.90379363],\n",
       "       [0.46547723],\n",
       "       [0.82778984],\n",
       "       [0.923172  ],\n",
       "       [0.7394026 ],\n",
       "       [0.8706988 ],\n",
       "       [0.5680574 ],\n",
       "       [0.8308822 ],\n",
       "       [0.83134425],\n",
       "       [0.78243047],\n",
       "       [0.8351437 ],\n",
       "       [0.6415069 ],\n",
       "       [0.5751494 ],\n",
       "       [0.8309573 ],\n",
       "       [0.8593472 ],\n",
       "       [0.6421827 ],\n",
       "       [0.69143957],\n",
       "       [0.869435  ],\n",
       "       [0.75775   ],\n",
       "       [0.64079535],\n",
       "       [0.90254116],\n",
       "       [0.879611  ],\n",
       "       [0.79602265],\n",
       "       [0.9001583 ],\n",
       "       [0.4891168 ],\n",
       "       [0.4028893 ],\n",
       "       [0.39873672],\n",
       "       [0.7981807 ],\n",
       "       [0.5349116 ],\n",
       "       [0.81917655],\n",
       "       [0.46150073],\n",
       "       [0.73435014],\n",
       "       [0.6376839 ],\n",
       "       [0.95937836],\n",
       "       [0.8593911 ],\n",
       "       [0.8029103 ],\n",
       "       [0.40572473],\n",
       "       [0.45610029],\n",
       "       [0.88589084],\n",
       "       [0.891073  ],\n",
       "       [0.35106683],\n",
       "       [0.7515254 ],\n",
       "       [0.7730403 ],\n",
       "       [0.87811697],\n",
       "       [0.44448653],\n",
       "       [0.8307142 ],\n",
       "       [0.590209  ],\n",
       "       [0.70370543],\n",
       "       [0.9211814 ],\n",
       "       [0.6318905 ],\n",
       "       [0.81827986],\n",
       "       [0.849755  ],\n",
       "       [0.86385226],\n",
       "       [0.7595942 ],\n",
       "       [0.44272673],\n",
       "       [0.7832194 ],\n",
       "       [0.6259389 ],\n",
       "       [0.9264705 ],\n",
       "       [0.5098315 ],\n",
       "       [0.673748  ],\n",
       "       [0.47573787],\n",
       "       [0.6679444 ],\n",
       "       [0.8922424 ],\n",
       "       [0.88730425],\n",
       "       [0.50480837],\n",
       "       [0.75045687],\n",
       "       [0.94532746],\n",
       "       [0.8477838 ],\n",
       "       [0.88898766],\n",
       "       [0.2604314 ],\n",
       "       [0.8744058 ],\n",
       "       [0.80028546],\n",
       "       [0.916976  ],\n",
       "       [0.78721666],\n",
       "       [0.86712456],\n",
       "       [0.80297357],\n",
       "       [0.8890781 ],\n",
       "       [0.28281915],\n",
       "       [0.4800073 ],\n",
       "       [0.86843204],\n",
       "       [0.43725327],\n",
       "       [0.69485915],\n",
       "       [0.78320813],\n",
       "       [0.8598303 ],\n",
       "       [0.34007287],\n",
       "       [0.8725766 ],\n",
       "       [0.89493686],\n",
       "       [0.9041066 ],\n",
       "       [0.79773235],\n",
       "       [0.7885442 ],\n",
       "       [0.6025189 ],\n",
       "       [0.8922057 ],\n",
       "       [0.9538182 ],\n",
       "       [0.798282  ],\n",
       "       [0.6085075 ],\n",
       "       [0.67144036],\n",
       "       [0.8593688 ],\n",
       "       [0.7753106 ],\n",
       "       [0.71769005],\n",
       "       [0.89586383],\n",
       "       [0.89571786],\n",
       "       [0.8217364 ],\n",
       "       [0.41640085],\n",
       "       [0.53657335],\n",
       "       [0.91175663],\n",
       "       [0.8519707 ],\n",
       "       [0.87238634],\n",
       "       [0.6291713 ],\n",
       "       [0.9595876 ],\n",
       "       [0.85520816],\n",
       "       [0.67041075],\n",
       "       [0.7633923 ],\n",
       "       [0.8848281 ],\n",
       "       [0.82530034],\n",
       "       [0.88941014],\n",
       "       [0.89557153],\n",
       "       [0.39932498],\n",
       "       [0.9228837 ],\n",
       "       [0.78867733],\n",
       "       [0.70071274],\n",
       "       [0.89441377],\n",
       "       [0.6296885 ],\n",
       "       [0.45372403],\n",
       "       [0.43453515],\n",
       "       [0.76814973],\n",
       "       [0.38175157],\n",
       "       [0.82133055],\n",
       "       [0.89319074],\n",
       "       [0.5798527 ],\n",
       "       [0.9199531 ],\n",
       "       [0.87909853],\n",
       "       [0.9000591 ],\n",
       "       [0.6599678 ],\n",
       "       [0.7175771 ],\n",
       "       [0.87859845],\n",
       "       [0.68278956],\n",
       "       [0.7201903 ],\n",
       "       [0.92639554],\n",
       "       [0.64161646],\n",
       "       [0.8329539 ],\n",
       "       [0.5555833 ],\n",
       "       [0.72280127],\n",
       "       [0.90078837],\n",
       "       [0.8838488 ],\n",
       "       [0.9163396 ],\n",
       "       [0.4336512 ],\n",
       "       [0.6293898 ],\n",
       "       [0.8726524 ],\n",
       "       [0.9372621 ],\n",
       "       [0.68926483],\n",
       "       [0.9108771 ],\n",
       "       [0.8644986 ],\n",
       "       [0.9155538 ],\n",
       "       [0.50974643],\n",
       "       [0.8835846 ],\n",
       "       [0.9035377 ],\n",
       "       [0.2970156 ],\n",
       "       [0.92960125],\n",
       "       [0.9356648 ],\n",
       "       [0.65973806],\n",
       "       [0.22417203],\n",
       "       [0.8525883 ],\n",
       "       [0.90041447],\n",
       "       [0.5113752 ],\n",
       "       [0.35025996],\n",
       "       [0.8854188 ],\n",
       "       [0.865047  ],\n",
       "       [0.8510301 ],\n",
       "       [0.8887409 ],\n",
       "       [0.85419875],\n",
       "       [0.84935355],\n",
       "       [0.93106747],\n",
       "       [0.90871704],\n",
       "       [0.9319653 ],\n",
       "       [0.5772013 ],\n",
       "       [0.7825247 ],\n",
       "       [0.81702524],\n",
       "       [0.8308404 ],\n",
       "       [0.8049258 ],\n",
       "       [0.58149606],\n",
       "       [0.9027887 ],\n",
       "       [0.5199905 ],\n",
       "       [0.93211544],\n",
       "       [0.86830384],\n",
       "       [0.5850314 ],\n",
       "       [0.8287748 ],\n",
       "       [0.50552094],\n",
       "       [0.8005351 ],\n",
       "       [0.40727216],\n",
       "       [0.91464007],\n",
       "       [0.8434497 ],\n",
       "       [0.46886238],\n",
       "       [0.30060464],\n",
       "       [0.7112882 ],\n",
       "       [0.9040873 ],\n",
       "       [0.4665866 ],\n",
       "       [0.33148897],\n",
       "       [0.9197569 ],\n",
       "       [0.85301065],\n",
       "       [0.83082247],\n",
       "       [0.6168553 ],\n",
       "       [0.9004951 ],\n",
       "       [0.8857372 ],\n",
       "       [0.8904208 ],\n",
       "       [0.9075977 ],\n",
       "       [0.8933226 ],\n",
       "       [0.70047647],\n",
       "       [0.82329166],\n",
       "       [0.7615174 ],\n",
       "       [0.8924408 ],\n",
       "       [0.8694618 ],\n",
       "       [0.7412545 ],\n",
       "       [0.39991766],\n",
       "       [0.86013496],\n",
       "       [0.30058604],\n",
       "       [0.67122984],\n",
       "       [0.5973503 ],\n",
       "       [0.3990702 ],\n",
       "       [0.8376969 ],\n",
       "       [0.8991077 ],\n",
       "       [0.7790796 ],\n",
       "       [0.29576278],\n",
       "       [0.43974605],\n",
       "       [0.41137516],\n",
       "       [0.9250001 ],\n",
       "       [0.9022448 ],\n",
       "       [0.84331906],\n",
       "       [0.5165159 ],\n",
       "       [0.47869605],\n",
       "       [0.9339005 ],\n",
       "       [0.8275229 ],\n",
       "       [0.93224174],\n",
       "       [0.8721385 ],\n",
       "       [0.4463136 ],\n",
       "       [0.8025221 ],\n",
       "       [0.53011686],\n",
       "       [0.75227284],\n",
       "       [0.9328803 ],\n",
       "       [0.777787  ],\n",
       "       [0.7790468 ],\n",
       "       [0.9146744 ],\n",
       "       [0.81163055],\n",
       "       [0.944891  ],\n",
       "       [0.91280377],\n",
       "       [0.8850143 ],\n",
       "       [0.8919575 ],\n",
       "       [0.64448225],\n",
       "       [0.82390094],\n",
       "       [0.894326  ],\n",
       "       [0.5760751 ],\n",
       "       [0.42864197],\n",
       "       [0.936684  ],\n",
       "       [0.5849487 ],\n",
       "       [0.9558141 ],\n",
       "       [0.6259579 ],\n",
       "       [0.32369342],\n",
       "       [0.66386855],\n",
       "       [0.9334309 ],\n",
       "       [0.45070693],\n",
       "       [0.42035323],\n",
       "       [0.75159776],\n",
       "       [0.9262193 ],\n",
       "       [0.29443488],\n",
       "       [0.5774582 ],\n",
       "       [0.6751904 ],\n",
       "       [0.7025796 ],\n",
       "       [0.8306127 ]], dtype=float32)"
      ]
     },
     "execution_count": 36,
     "metadata": {},
     "output_type": "execute_result"
    }
   ],
   "source": [
    "pred_probabilities"
   ]
  },
  {
   "cell_type": "code",
   "execution_count": 37,
   "metadata": {
    "scrolled": true
   },
   "outputs": [],
   "source": [
    "y_true = test_img_gen.classes"
   ]
  },
  {
   "cell_type": "code",
   "execution_count": 38,
   "metadata": {},
   "outputs": [],
   "source": [
    "predictions = pred_probabilities > 0.5"
   ]
  },
  {
   "cell_type": "code",
   "execution_count": 39,
   "metadata": {},
   "outputs": [
    {
     "data": {
      "text/plain": [
       "array([[ True],\n",
       "       [ True],\n",
       "       [ True],\n",
       "       [ True],\n",
       "       [ True],\n",
       "       [ True],\n",
       "       [ True],\n",
       "       [ True],\n",
       "       [ True],\n",
       "       [ True],\n",
       "       [ True],\n",
       "       [ True],\n",
       "       [ True],\n",
       "       [ True],\n",
       "       [False],\n",
       "       [ True],\n",
       "       [ True],\n",
       "       [ True],\n",
       "       [ True],\n",
       "       [False],\n",
       "       [False],\n",
       "       [ True],\n",
       "       [ True],\n",
       "       [ True],\n",
       "       [ True],\n",
       "       [ True],\n",
       "       [ True],\n",
       "       [False],\n",
       "       [ True],\n",
       "       [False],\n",
       "       [False],\n",
       "       [ True],\n",
       "       [ True],\n",
       "       [ True],\n",
       "       [ True],\n",
       "       [ True],\n",
       "       [False],\n",
       "       [False],\n",
       "       [ True],\n",
       "       [ True],\n",
       "       [ True],\n",
       "       [ True],\n",
       "       [ True],\n",
       "       [False],\n",
       "       [ True],\n",
       "       [ True],\n",
       "       [ True],\n",
       "       [ True],\n",
       "       [ True],\n",
       "       [ True],\n",
       "       [ True],\n",
       "       [ True],\n",
       "       [False],\n",
       "       [False],\n",
       "       [ True],\n",
       "       [ True],\n",
       "       [ True],\n",
       "       [ True],\n",
       "       [ True],\n",
       "       [ True],\n",
       "       [ True],\n",
       "       [False],\n",
       "       [ True],\n",
       "       [ True],\n",
       "       [False],\n",
       "       [ True],\n",
       "       [ True],\n",
       "       [ True],\n",
       "       [ True],\n",
       "       [ True],\n",
       "       [ True],\n",
       "       [False],\n",
       "       [ True],\n",
       "       [ True],\n",
       "       [False],\n",
       "       [ True],\n",
       "       [ True],\n",
       "       [ True],\n",
       "       [ True],\n",
       "       [ True],\n",
       "       [ True],\n",
       "       [False],\n",
       "       [ True],\n",
       "       [ True],\n",
       "       [ True],\n",
       "       [ True],\n",
       "       [ True],\n",
       "       [ True],\n",
       "       [ True],\n",
       "       [ True],\n",
       "       [ True],\n",
       "       [ True],\n",
       "       [ True],\n",
       "       [ True],\n",
       "       [ True],\n",
       "       [False],\n",
       "       [ True],\n",
       "       [False],\n",
       "       [False],\n",
       "       [ True],\n",
       "       [ True],\n",
       "       [ True],\n",
       "       [ True],\n",
       "       [ True],\n",
       "       [ True],\n",
       "       [ True],\n",
       "       [ True],\n",
       "       [False],\n",
       "       [ True],\n",
       "       [False],\n",
       "       [ True],\n",
       "       [ True],\n",
       "       [False],\n",
       "       [ True],\n",
       "       [ True],\n",
       "       [ True],\n",
       "       [ True],\n",
       "       [ True],\n",
       "       [ True],\n",
       "       [ True],\n",
       "       [False],\n",
       "       [ True],\n",
       "       [ True],\n",
       "       [ True],\n",
       "       [ True],\n",
       "       [ True],\n",
       "       [ True],\n",
       "       [ True],\n",
       "       [ True],\n",
       "       [ True],\n",
       "       [ True],\n",
       "       [ True],\n",
       "       [ True],\n",
       "       [ True],\n",
       "       [ True],\n",
       "       [ True],\n",
       "       [ True],\n",
       "       [ True],\n",
       "       [ True],\n",
       "       [ True],\n",
       "       [ True],\n",
       "       [ True],\n",
       "       [ True],\n",
       "       [ True],\n",
       "       [ True],\n",
       "       [ True],\n",
       "       [ True],\n",
       "       [ True],\n",
       "       [ True],\n",
       "       [ True],\n",
       "       [ True],\n",
       "       [ True],\n",
       "       [False],\n",
       "       [ True],\n",
       "       [ True],\n",
       "       [ True],\n",
       "       [ True],\n",
       "       [ True],\n",
       "       [ True],\n",
       "       [ True],\n",
       "       [ True],\n",
       "       [ True],\n",
       "       [ True],\n",
       "       [ True],\n",
       "       [ True],\n",
       "       [ True],\n",
       "       [ True],\n",
       "       [ True],\n",
       "       [ True],\n",
       "       [ True],\n",
       "       [ True],\n",
       "       [ True],\n",
       "       [ True],\n",
       "       [ True],\n",
       "       [ True],\n",
       "       [ True],\n",
       "       [ True],\n",
       "       [ True],\n",
       "       [ True],\n",
       "       [False],\n",
       "       [ True],\n",
       "       [ True],\n",
       "       [ True],\n",
       "       [ True],\n",
       "       [ True],\n",
       "       [ True],\n",
       "       [ True],\n",
       "       [ True],\n",
       "       [ True],\n",
       "       [ True],\n",
       "       [ True],\n",
       "       [ True],\n",
       "       [ True],\n",
       "       [ True],\n",
       "       [ True],\n",
       "       [ True],\n",
       "       [ True],\n",
       "       [ True],\n",
       "       [False],\n",
       "       [ True],\n",
       "       [ True],\n",
       "       [ True],\n",
       "       [ True],\n",
       "       [ True],\n",
       "       [False],\n",
       "       [ True],\n",
       "       [ True],\n",
       "       [ True],\n",
       "       [False],\n",
       "       [ True],\n",
       "       [ True],\n",
       "       [ True],\n",
       "       [ True],\n",
       "       [False],\n",
       "       [ True],\n",
       "       [ True],\n",
       "       [ True],\n",
       "       [ True],\n",
       "       [ True],\n",
       "       [ True],\n",
       "       [ True],\n",
       "       [ True],\n",
       "       [ True],\n",
       "       [ True],\n",
       "       [ True],\n",
       "       [ True],\n",
       "       [ True],\n",
       "       [ True],\n",
       "       [False],\n",
       "       [ True],\n",
       "       [ True],\n",
       "       [ True],\n",
       "       [ True],\n",
       "       [ True],\n",
       "       [ True],\n",
       "       [ True],\n",
       "       [ True],\n",
       "       [ True],\n",
       "       [ True],\n",
       "       [ True],\n",
       "       [ True],\n",
       "       [ True],\n",
       "       [ True],\n",
       "       [ True],\n",
       "       [False],\n",
       "       [ True],\n",
       "       [ True],\n",
       "       [ True],\n",
       "       [ True],\n",
       "       [False],\n",
       "       [ True],\n",
       "       [ True],\n",
       "       [ True],\n",
       "       [ True],\n",
       "       [ True],\n",
       "       [ True],\n",
       "       [ True],\n",
       "       [ True],\n",
       "       [ True],\n",
       "       [ True],\n",
       "       [ True],\n",
       "       [ True],\n",
       "       [ True],\n",
       "       [ True],\n",
       "       [False],\n",
       "       [ True],\n",
       "       [False],\n",
       "       [ True],\n",
       "       [ True],\n",
       "       [ True],\n",
       "       [ True],\n",
       "       [ True],\n",
       "       [ True],\n",
       "       [ True],\n",
       "       [ True],\n",
       "       [ True],\n",
       "       [ True],\n",
       "       [False],\n",
       "       [ True],\n",
       "       [ True],\n",
       "       [ True],\n",
       "       [ True],\n",
       "       [ True],\n",
       "       [ True],\n",
       "       [ True],\n",
       "       [ True],\n",
       "       [ True],\n",
       "       [ True],\n",
       "       [ True],\n",
       "       [ True],\n",
       "       [ True],\n",
       "       [ True],\n",
       "       [False],\n",
       "       [ True],\n",
       "       [ True],\n",
       "       [ True],\n",
       "       [ True],\n",
       "       [ True],\n",
       "       [ True],\n",
       "       [ True],\n",
       "       [ True],\n",
       "       [ True],\n",
       "       [ True],\n",
       "       [ True],\n",
       "       [ True],\n",
       "       [ True],\n",
       "       [ True],\n",
       "       [ True],\n",
       "       [ True],\n",
       "       [False],\n",
       "       [ True],\n",
       "       [ True],\n",
       "       [ True],\n",
       "       [ True],\n",
       "       [ True],\n",
       "       [False],\n",
       "       [False],\n",
       "       [ True],\n",
       "       [ True],\n",
       "       [ True],\n",
       "       [ True],\n",
       "       [ True],\n",
       "       [ True],\n",
       "       [ True],\n",
       "       [ True],\n",
       "       [ True],\n",
       "       [ True],\n",
       "       [False],\n",
       "       [False],\n",
       "       [ True],\n",
       "       [ True],\n",
       "       [ True],\n",
       "       [ True],\n",
       "       [ True],\n",
       "       [ True],\n",
       "       [ True],\n",
       "       [ True],\n",
       "       [ True],\n",
       "       [ True],\n",
       "       [False],\n",
       "       [ True],\n",
       "       [ True],\n",
       "       [ True],\n",
       "       [ True],\n",
       "       [False],\n",
       "       [ True],\n",
       "       [ True],\n",
       "       [ True],\n",
       "       [ True],\n",
       "       [False],\n",
       "       [ True],\n",
       "       [ True],\n",
       "       [ True],\n",
       "       [ True],\n",
       "       [ True],\n",
       "       [ True],\n",
       "       [ True],\n",
       "       [ True],\n",
       "       [False],\n",
       "       [ True],\n",
       "       [ True],\n",
       "       [ True],\n",
       "       [ True],\n",
       "       [ True],\n",
       "       [ True],\n",
       "       [ True],\n",
       "       [ True],\n",
       "       [ True],\n",
       "       [ True],\n",
       "       [ True],\n",
       "       [ True],\n",
       "       [ True],\n",
       "       [ True],\n",
       "       [ True],\n",
       "       [ True],\n",
       "       [ True],\n",
       "       [ True],\n",
       "       [ True],\n",
       "       [ True],\n",
       "       [ True],\n",
       "       [ True],\n",
       "       [False],\n",
       "       [False],\n",
       "       [False],\n",
       "       [ True],\n",
       "       [ True],\n",
       "       [ True],\n",
       "       [False],\n",
       "       [ True],\n",
       "       [ True],\n",
       "       [ True],\n",
       "       [ True],\n",
       "       [ True],\n",
       "       [False],\n",
       "       [False],\n",
       "       [ True],\n",
       "       [ True],\n",
       "       [False],\n",
       "       [ True],\n",
       "       [ True],\n",
       "       [ True],\n",
       "       [False],\n",
       "       [ True],\n",
       "       [ True],\n",
       "       [ True],\n",
       "       [ True],\n",
       "       [ True],\n",
       "       [ True],\n",
       "       [ True],\n",
       "       [ True],\n",
       "       [ True],\n",
       "       [False],\n",
       "       [ True],\n",
       "       [ True],\n",
       "       [ True],\n",
       "       [ True],\n",
       "       [ True],\n",
       "       [False],\n",
       "       [ True],\n",
       "       [ True],\n",
       "       [ True],\n",
       "       [ True],\n",
       "       [ True],\n",
       "       [ True],\n",
       "       [ True],\n",
       "       [ True],\n",
       "       [False],\n",
       "       [ True],\n",
       "       [ True],\n",
       "       [ True],\n",
       "       [ True],\n",
       "       [ True],\n",
       "       [ True],\n",
       "       [ True],\n",
       "       [False],\n",
       "       [False],\n",
       "       [ True],\n",
       "       [False],\n",
       "       [ True],\n",
       "       [ True],\n",
       "       [ True],\n",
       "       [False],\n",
       "       [ True],\n",
       "       [ True],\n",
       "       [ True],\n",
       "       [ True],\n",
       "       [ True],\n",
       "       [ True],\n",
       "       [ True],\n",
       "       [ True],\n",
       "       [ True],\n",
       "       [ True],\n",
       "       [ True],\n",
       "       [ True],\n",
       "       [ True],\n",
       "       [ True],\n",
       "       [ True],\n",
       "       [ True],\n",
       "       [ True],\n",
       "       [False],\n",
       "       [ True],\n",
       "       [ True],\n",
       "       [ True],\n",
       "       [ True],\n",
       "       [ True],\n",
       "       [ True],\n",
       "       [ True],\n",
       "       [ True],\n",
       "       [ True],\n",
       "       [ True],\n",
       "       [ True],\n",
       "       [ True],\n",
       "       [ True],\n",
       "       [False],\n",
       "       [ True],\n",
       "       [ True],\n",
       "       [ True],\n",
       "       [ True],\n",
       "       [ True],\n",
       "       [False],\n",
       "       [False],\n",
       "       [ True],\n",
       "       [False],\n",
       "       [ True],\n",
       "       [ True],\n",
       "       [ True],\n",
       "       [ True],\n",
       "       [ True],\n",
       "       [ True],\n",
       "       [ True],\n",
       "       [ True],\n",
       "       [ True],\n",
       "       [ True],\n",
       "       [ True],\n",
       "       [ True],\n",
       "       [ True],\n",
       "       [ True],\n",
       "       [ True],\n",
       "       [ True],\n",
       "       [ True],\n",
       "       [ True],\n",
       "       [ True],\n",
       "       [False],\n",
       "       [ True],\n",
       "       [ True],\n",
       "       [ True],\n",
       "       [ True],\n",
       "       [ True],\n",
       "       [ True],\n",
       "       [ True],\n",
       "       [ True],\n",
       "       [ True],\n",
       "       [ True],\n",
       "       [False],\n",
       "       [ True],\n",
       "       [ True],\n",
       "       [ True],\n",
       "       [False],\n",
       "       [ True],\n",
       "       [ True],\n",
       "       [ True],\n",
       "       [False],\n",
       "       [ True],\n",
       "       [ True],\n",
       "       [ True],\n",
       "       [ True],\n",
       "       [ True],\n",
       "       [ True],\n",
       "       [ True],\n",
       "       [ True],\n",
       "       [ True],\n",
       "       [ True],\n",
       "       [ True],\n",
       "       [ True],\n",
       "       [ True],\n",
       "       [ True],\n",
       "       [ True],\n",
       "       [ True],\n",
       "       [ True],\n",
       "       [ True],\n",
       "       [ True],\n",
       "       [ True],\n",
       "       [ True],\n",
       "       [ True],\n",
       "       [ True],\n",
       "       [False],\n",
       "       [ True],\n",
       "       [ True],\n",
       "       [False],\n",
       "       [False],\n",
       "       [ True],\n",
       "       [ True],\n",
       "       [False],\n",
       "       [False],\n",
       "       [ True],\n",
       "       [ True],\n",
       "       [ True],\n",
       "       [ True],\n",
       "       [ True],\n",
       "       [ True],\n",
       "       [ True],\n",
       "       [ True],\n",
       "       [ True],\n",
       "       [ True],\n",
       "       [ True],\n",
       "       [ True],\n",
       "       [ True],\n",
       "       [ True],\n",
       "       [ True],\n",
       "       [False],\n",
       "       [ True],\n",
       "       [False],\n",
       "       [ True],\n",
       "       [ True],\n",
       "       [False],\n",
       "       [ True],\n",
       "       [ True],\n",
       "       [ True],\n",
       "       [False],\n",
       "       [False],\n",
       "       [False],\n",
       "       [ True],\n",
       "       [ True],\n",
       "       [ True],\n",
       "       [ True],\n",
       "       [False],\n",
       "       [ True],\n",
       "       [ True],\n",
       "       [ True],\n",
       "       [ True],\n",
       "       [False],\n",
       "       [ True],\n",
       "       [ True],\n",
       "       [ True],\n",
       "       [ True],\n",
       "       [ True],\n",
       "       [ True],\n",
       "       [ True],\n",
       "       [ True],\n",
       "       [ True],\n",
       "       [ True],\n",
       "       [ True],\n",
       "       [ True],\n",
       "       [ True],\n",
       "       [ True],\n",
       "       [ True],\n",
       "       [ True],\n",
       "       [False],\n",
       "       [ True],\n",
       "       [ True],\n",
       "       [ True],\n",
       "       [ True],\n",
       "       [False],\n",
       "       [ True],\n",
       "       [ True],\n",
       "       [False],\n",
       "       [False],\n",
       "       [ True],\n",
       "       [ True],\n",
       "       [False],\n",
       "       [ True],\n",
       "       [ True],\n",
       "       [ True],\n",
       "       [ True]])"
      ]
     },
     "execution_count": 39,
     "metadata": {},
     "output_type": "execute_result"
    }
   ],
   "source": [
    "predictions"
   ]
  },
  {
   "cell_type": "code",
   "execution_count": 40,
   "metadata": {},
   "outputs": [
    {
     "data": {
      "text/plain": [
       "array([[ 30, 204],\n",
       "       [ 57, 333]])"
      ]
     },
     "execution_count": 40,
     "metadata": {},
     "output_type": "execute_result"
    }
   ],
   "source": [
    "confusion_matrix(y_true,predictions)"
   ]
  },
  {
   "cell_type": "markdown",
   "metadata": {},
   "source": [
    "# Predicting Single Image"
   ]
  },
  {
   "cell_type": "code",
   "execution_count": 41,
   "metadata": {
    "scrolled": true
   },
   "outputs": [
    {
     "data": {
      "text/plain": [
       "'person86_bacteria_429.jpeg'"
      ]
     },
     "execution_count": 41,
     "metadata": {},
     "output_type": "execute_result"
    }
   ],
   "source": [
    "os.listdir(test_path + '/PNEUMONIA')[30]"
   ]
  },
  {
   "cell_type": "code",
   "execution_count": 42,
   "metadata": {},
   "outputs": [
    {
     "data": {
      "text/plain": [
       "'/users/syhuangmac/Dropbox/chest-x-ray/data//test/PNEUMONIA/person86_bacteria_429.jpeg'"
      ]
     },
     "execution_count": 42,
     "metadata": {},
     "output_type": "execute_result"
    }
   ],
   "source": [
    "example = test_path + '/PNEUMONIA' + '/person86_bacteria_429.jpeg'\n",
    "example"
   ]
  },
  {
   "cell_type": "code",
   "execution_count": 43,
   "metadata": {},
   "outputs": [
    {
     "data": {
      "image/png": "[encoded data removed]",
      "text/plain": [
       "<PIL.Image.Image image mode=L size=224x224 at 0x7F91D3655C50>"
      ]
     },
     "execution_count": 43,
     "metadata": {},
     "output_type": "execute_result"
    }
   ],
   "source": [
    "my_image = image.load_img(example,color_mode='grayscale',target_size=(224,224,1))\n",
    "my_image"
   ]
  },
  {
   "cell_type": "code",
   "execution_count": 44,
   "metadata": {},
   "outputs": [
    {
     "data": {
      "text/plain": [
       "PIL.Image.Image"
      ]
     },
     "execution_count": 44,
     "metadata": {},
     "output_type": "execute_result"
    }
   ],
   "source": [
    "type(my_image)"
   ]
  },
  {
   "cell_type": "code",
   "execution_count": 45,
   "metadata": {},
   "outputs": [],
   "source": [
    "my_image = image.img_to_array(my_image)"
   ]
  },
  {
   "cell_type": "code",
   "execution_count": 46,
   "metadata": {},
   "outputs": [
    {
     "data": {
      "text/plain": [
       "numpy.ndarray"
      ]
     },
     "execution_count": 46,
     "metadata": {},
     "output_type": "execute_result"
    }
   ],
   "source": [
    "type(my_image)"
   ]
  },
  {
   "cell_type": "code",
   "execution_count": 47,
   "metadata": {},
   "outputs": [
    {
     "data": {
      "text/plain": [
       "(224, 224, 1)"
      ]
     },
     "execution_count": 47,
     "metadata": {},
     "output_type": "execute_result"
    }
   ],
   "source": [
    "my_image.shape"
   ]
  },
  {
   "cell_type": "code",
   "execution_count": 48,
   "metadata": {},
   "outputs": [
    {
     "data": {
      "text/plain": [
       "(1, 224, 224, 1)"
      ]
     },
     "execution_count": 48,
     "metadata": {},
     "output_type": "execute_result"
    }
   ],
   "source": [
    "my_image = np.expand_dims(my_image, axis=0)\n",
    "my_image.shape"
   ]
  },
  {
   "cell_type": "code",
   "execution_count": 49,
   "metadata": {},
   "outputs": [
    {
     "data": {
      "text/plain": [
       "array([[1.]], dtype=float32)"
      ]
     },
     "execution_count": 49,
     "metadata": {},
     "output_type": "execute_result"
    }
   ],
   "source": [
    "model.predict(my_image)"
   ]
  },
  {
   "cell_type": "code",
   "execution_count": 50,
   "metadata": {},
   "outputs": [
    {
     "data": {
      "text/plain": [
       "{'NORMAL': 0, 'PNEUMONIA': 1}"
      ]
     },
     "execution_count": 50,
     "metadata": {},
     "output_type": "execute_result"
    }
   ],
   "source": [
    "test_img_gen.class_indices"
   ]
  },
  {
   "cell_type": "code",
   "execution_count": null,
   "metadata": {},
   "outputs": [],
   "source": []
  }
 ],
 "metadata": {
  "kernelspec": {
   "display_name": "Python 3",
   "language": "python",
   "name": "python3"
  },
  "language_info": {
   "codemirror_mode": {
    "name": "ipython",
    "version": 3
   },
   "file_extension": ".py",
   "mimetype": "text/x-python",
   "name": "python",
   "nbconvert_exporter": "python",
   "pygments_lexer": "ipython3",
   "version": "3.7.6"
  }
 },
 "nbformat": 4,
 "nbformat_minor": 4
}

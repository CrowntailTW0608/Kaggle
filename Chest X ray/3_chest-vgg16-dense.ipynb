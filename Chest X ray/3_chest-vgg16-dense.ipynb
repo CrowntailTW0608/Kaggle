{
 "cells": [
  {
   "cell_type": "markdown",
   "metadata": {},
   "source": [
    "# For days 2-3: transfer learning using VGG16, model training"
   ]
  },
  {
   "cell_type": "code",
   "execution_count": 1,
   "metadata": {},
   "outputs": [],
   "source": [
    "import os;\n",
    "# os.environ['KMP_DUPLICATE_LIB_OK']='True';"
   ]
  },
  {
   "cell_type": "code",
   "execution_count": 9,
   "metadata": {},
   "outputs": [],
   "source": [
    "import tensorflow as tf;\n",
    "import numpy as np;\n",
    "import pandas as pd;\n",
    "import matplotlib.pyplot as plt;"
   ]
  },
  {
   "cell_type": "code",
   "execution_count": 10,
   "metadata": {},
   "outputs": [
    {
     "name": "stdout",
     "output_type": "stream",
     "text": [
      "Found 5216 images belonging to 2 classes.\n",
      "Found 16 images belonging to 2 classes.\n",
      "Found 624 images belonging to 2 classes.\n"
     ]
    }
   ],
   "source": [
    "# load data\n",
    "train_datagen = tf.keras.preprocessing.image.ImageDataGenerator(\n",
    "    rescale=1./255,\n",
    "    width_shift_range=0.05,\n",
    "    height_shift_range=0.15,\n",
    "    rotation_range=10,\n",
    "    zoom_range=0.1,\n",
    ")\n",
    "validation_datagen = tf.keras.preprocessing.image.ImageDataGenerator(rescale=1./255)\n",
    "test_datagen = tf.keras.preprocessing.image.ImageDataGenerator(rescale=1./255)\n",
    "\n",
    "train_generator = train_datagen.flow_from_directory(\n",
    "    './data/chest_xray/train',\n",
    "    target_size=(224,224),\n",
    "    batch_size=100,\n",
    "    class_mode=\"binary\",\n",
    "    #color_mode=\"grayscale\",\n",
    "    shuffle=True,\n",
    ")\n",
    "validation_generator = validation_datagen.flow_from_directory(\n",
    "    './data/chest_xray/val',\n",
    "    target_size=(224,224),\n",
    "    class_mode=\"binary\",\n",
    "    #color_mode=\"grayscale\",\n",
    "    shuffle=False,\n",
    "    batch_size=1,\n",
    ")\n",
    "test_generator = test_datagen.flow_from_directory(\n",
    "    './data/chest_xray/test',\n",
    "    target_size=(224,224),\n",
    "    class_mode=\"binary\",\n",
    "    #color_mode=\"grayscale\",\n",
    "    shuffle=False,\n",
    "    batch_size=1,\n",
    ")\n",
    "# num classes\n",
    "num_classes = 2;"
   ]
  },
  {
   "cell_type": "code",
   "execution_count": 11,
   "metadata": {},
   "outputs": [],
   "source": [
    "# Directory Number\n",
    "i = 1;\n",
    "while(1):\n",
    "    if os.path.isdir('./{}' . format(i)) == False:\n",
    "        break;\n",
    "    else:\n",
    "        i = i + 1;\n",
    "savedir = './{}' . format(i);\n",
    "os.mkdir(savedir);"
   ]
  },
  {
   "cell_type": "code",
   "execution_count": 12,
   "metadata": {
    "scrolled": false
   },
   "outputs": [
    {
     "name": "stdout",
     "output_type": "stream",
     "text": [
      "Epoch 1/5\n",
      "53/53 [==============================] - 110s 2s/step - loss: 4.7525 - binary_crossentropy: 4.7525 - accuracy: 0.8321 - val_loss: 1.6856 - val_binary_crossentropy: 1.6856 - val_accuracy: 0.8766\n",
      "Epoch 2/5\n",
      "53/53 [==============================] - 113s 2s/step - loss: 2.0582 - binary_crossentropy: 2.0582 - accuracy: 0.8802 - val_loss: 1.9770 - val_binary_crossentropy: 1.9770 - val_accuracy: 0.8654\n",
      "Epoch 3/5\n",
      "53/53 [==============================] - 112s 2s/step - loss: 1.2614 - binary_crossentropy: 1.2614 - accuracy: 0.9061 - val_loss: 1.4507 - val_binary_crossentropy: 1.4507 - val_accuracy: 0.8942\n",
      "Epoch 4/5\n",
      "53/53 [==============================] - 113s 2s/step - loss: 0.9084 - binary_crossentropy: 0.9084 - accuracy: 0.9224 - val_loss: 0.8006 - val_binary_crossentropy: 0.8006 - val_accuracy: 0.9135\n",
      "Epoch 5/5\n",
      "53/53 [==============================] - 113s 2s/step - loss: 0.7194 - binary_crossentropy: 0.7194 - accuracy: 0.9235 - val_loss: 0.7049 - val_binary_crossentropy: 0.7049 - val_accuracy: 0.9199\n",
      "Test loss: 0.7048701047897339\n",
      "Test accuracy: 0.9198718070983887\n"
     ]
    }
   ],
   "source": [
    "model = tf.keras.Sequential()\n",
    "pmodel=tf.keras.applications.vgg16.VGG16(weights='imagenet',include_top=False,input_tensor=tf.keras.layers.Input(shape=(224,224,3)));\n",
    "pmodel.trainable = False;\n",
    "model.add(pmodel);\n",
    "model.add(tf.keras.layers.Flatten());\n",
    "model.add(tf.keras.layers.Dense(256));\n",
    "model.add(tf.keras.layers.Dropout(0.5));\n",
    "model.add(tf.keras.layers.Dense(1, activation='sigmoid'))\n",
    "model.compile(loss=tf.keras.losses.binary_crossentropy, optimizer=tf.keras.optimizers.RMSprop(), metrics=[tf.keras.metrics.binary_crossentropy,'accuracy'])\n",
    "# Test loss: 0.8618631362915039\n",
    "# Test accuracy: 0.9086538553237915\n",
    "# model.compile(loss=tf.keras.losses.binary_crossentropy, optimizer=tf.keras.optimizers.SGD(), metrics=[tf.keras.metrics.binary_crossentropy,'accuracy'])\n",
    "# Test loss: 0.33575302362442017\n",
    "# Test accuracy: 0.8589743375778198\n",
    "\n",
    "# fit\n",
    "history = model.fit(train_generator, epochs=5, validation_data=test_generator)\n",
    "score = model.evaluate(test_generator, verbose=0)\n",
    "print('Test loss:', score[0]);\n",
    "print('Test accuracy:', score[2]);\n",
    "model.save_weights(savedir + '/dense-layer_weights.h5');"
   ]
  },
  {
   "cell_type": "code",
   "execution_count": null,
   "metadata": {},
   "outputs": [],
   "source": [
    "score # 0: total loss = cross_entropy + regularization, 1: cross-entropy, 2: accuracy"
   ]
  },
  {
   "cell_type": "code",
   "execution_count": null,
   "metadata": {},
   "outputs": [],
   "source": [
    "# save history\n",
    "history_json = pd.DataFrame(history.history);\n",
    "with open(savedir + '/history.json', 'w') as f:\n",
    "    history_json.to_json(f);\n",
    "\n",
    "# Plot training & validation accuracy values\n",
    "plt.plot(history.history['accuracy'])\n",
    "plt.plot(history.history['val_accuracy'])\n",
    "plt.title('Model accuracy')\n",
    "plt.ylabel('Accuracy')\n",
    "plt.xlabel('Epoch')\n",
    "plt.legend(['Train', 'Test'], loc='upper left')\n",
    "plt.savefig(savedir + '/accuracy.png');\n",
    "plt.clf();\n",
    "\n",
    "# Plot training & validation loss values\n",
    "plt.plot(history.history['loss'])\n",
    "plt.plot(history.history['val_loss'])\n",
    "plt.title('Model loss')\n",
    "plt.ylabel('Loss')\n",
    "plt.xlabel('Epoch')\n",
    "plt.legend(['Train', 'Test'], loc='upper left')\n",
    "plt.savefig(savedir + '/loss.png');\n",
    "plt.clf();\n",
    "\n",
    "# Plot training & validation loss without regularization term\n",
    "plt.plot(history.history['binary_crossentropy'])\n",
    "plt.plot(history.history['val_binary_crossentropy'])\n",
    "plt.title('Model loss without regularization term')\n",
    "plt.ylabel('Loss without Regularization Term')\n",
    "plt.xlabel('Epoch')\n",
    "plt.legend(['Train', 'Test'], loc='upper left')\n",
    "plt.savefig(savedir + '/loss-without-regularization.png');\n",
    "plt.clf();\n",
    "\n",
    "# Plot reconstruction error\n",
    "plt.plot(np.array(history.history['loss'])-np.array(history.history['binary_crossentropy']))\n",
    "plt.plot(np.array(history.history['val_loss'])-np.array(history.history['val_binary_crossentropy']))\n",
    "plt.title('Penalty based on reconstruction error')\n",
    "plt.ylabel('Penality')\n",
    "plt.xlabel('Epoch')\n",
    "plt.legend(['Train', 'Test'], loc='upper left')\n",
    "plt.savefig(savedir + '/regularization.png');\n",
    "plt.clf();\n"
   ]
  },
  {
   "cell_type": "code",
   "execution_count": null,
   "metadata": {},
   "outputs": [],
   "source": [
    "model.summary();"
   ]
  },
  {
   "cell_type": "code",
   "execution_count": null,
   "metadata": {},
   "outputs": [],
   "source": []
  }
 ],
 "metadata": {
  "kernelspec": {
   "display_name": "Python 3",
   "language": "python",
   "name": "python3"
  },
  "language_info": {
   "codemirror_mode": {
    "name": "ipython",
    "version": 3
   },
   "file_extension": ".py",
   "mimetype": "text/x-python",
   "name": "python",
   "nbconvert_exporter": "python",
   "pygments_lexer": "ipython3",
   "version": "3.8.3"
  }
 },
 "nbformat": 4,
 "nbformat_minor": 2
}
